{
 "cells": [
  {
   "cell_type": "markdown",
   "metadata": {},
   "source": [
    "Modelar o ciclo de cogeração ilustrado abaixo. Permitir que o processo varie de \n",
    "0% (desligado) até 100% (completamente ligado)."
   ]
  },
  {
   "cell_type": "markdown",
   "metadata": {},
   "source": [
    "![Ciclo](img/ciclo.jpeg \"Ciclo\")"
   ]
  },
  {
   "cell_type": "markdown",
   "metadata": {},
   "source": [
    "Importando bibliotecas necessárias"
   ]
  },
  {
   "cell_type": "code",
   "execution_count": 100,
   "metadata": {},
   "outputs": [],
   "source": [
    "from pandas import read_excel, DataFrame\n",
    "from CoolProp.CoolProp import PropsSI as prop\n",
    "from CoolProp.CoolProp import State as st\n",
    "from numpy import arange, absolute, nan"
   ]
  },
  {
   "cell_type": "code",
   "execution_count": 101,
   "metadata": {},
   "outputs": [
    {
     "data": {
      "text/html": [
       "<div>\n",
       "<style scoped>\n",
       "    .dataframe tbody tr th:only-of-type {\n",
       "        vertical-align: middle;\n",
       "    }\n",
       "\n",
       "    .dataframe tbody tr th {\n",
       "        vertical-align: top;\n",
       "    }\n",
       "\n",
       "    .dataframe thead th {\n",
       "        text-align: right;\n",
       "    }\n",
       "</style>\n",
       "<table border=\"1\" class=\"dataframe\">\n",
       "  <thead>\n",
       "    <tr style=\"text-align: right;\">\n",
       "      <th></th>\n",
       "      <th>Temperatura [ºC]</th>\n",
       "      <th>Pressão [kPa]</th>\n",
       "      <th>Vazão [kg/s]</th>\n",
       "      <th>Título [-]</th>\n",
       "    </tr>\n",
       "  </thead>\n",
       "  <tbody>\n",
       "    <tr>\n",
       "      <th>0</th>\n",
       "      <td>485</td>\n",
       "      <td>6495</td>\n",
       "      <td>27.9</td>\n",
       "      <td>-</td>\n",
       "    </tr>\n",
       "    <tr>\n",
       "      <th>1</th>\n",
       "      <td>-</td>\n",
       "      <td>900</td>\n",
       "      <td>-</td>\n",
       "      <td>-</td>\n",
       "    </tr>\n",
       "    <tr>\n",
       "      <th>2</th>\n",
       "      <td>-</td>\n",
       "      <td>250</td>\n",
       "      <td>-</td>\n",
       "      <td>-</td>\n",
       "    </tr>\n",
       "    <tr>\n",
       "      <th>3</th>\n",
       "      <td>51</td>\n",
       "      <td>Saturação</td>\n",
       "      <td>-</td>\n",
       "      <td>-</td>\n",
       "    </tr>\n",
       "    <tr>\n",
       "      <th>4</th>\n",
       "      <td>51</td>\n",
       "      <td>Saturação</td>\n",
       "      <td>-</td>\n",
       "      <td>0.0</td>\n",
       "    </tr>\n",
       "    <tr>\n",
       "      <th>5</th>\n",
       "      <td>-</td>\n",
       "      <td>250</td>\n",
       "      <td>-</td>\n",
       "      <td>-</td>\n",
       "    </tr>\n",
       "    <tr>\n",
       "      <th>6</th>\n",
       "      <td>110</td>\n",
       "      <td>250</td>\n",
       "      <td>-</td>\n",
       "      <td>-</td>\n",
       "    </tr>\n",
       "    <tr>\n",
       "      <th>7</th>\n",
       "      <td>-</td>\n",
       "      <td>6495</td>\n",
       "      <td>27.9</td>\n",
       "      <td>-</td>\n",
       "    </tr>\n",
       "    <tr>\n",
       "      <th>8</th>\n",
       "      <td>110</td>\n",
       "      <td>250</td>\n",
       "      <td>-</td>\n",
       "      <td>-</td>\n",
       "    </tr>\n",
       "    <tr>\n",
       "      <th>9</th>\n",
       "      <td>-</td>\n",
       "      <td>900</td>\n",
       "      <td>-</td>\n",
       "      <td>-</td>\n",
       "    </tr>\n",
       "    <tr>\n",
       "      <th>10</th>\n",
       "      <td>Saturação</td>\n",
       "      <td>900</td>\n",
       "      <td>6.94</td>\n",
       "      <td>1.0</td>\n",
       "    </tr>\n",
       "    <tr>\n",
       "      <th>11</th>\n",
       "      <td>Saturação</td>\n",
       "      <td>900</td>\n",
       "      <td>6.94</td>\n",
       "      <td>0.0</td>\n",
       "    </tr>\n",
       "  </tbody>\n",
       "</table>\n",
       "</div>"
      ],
      "text/plain": [
       "   Temperatura [ºC] Pressão [kPa] Vazão [kg/s] Título [-]\n",
       "0               485          6495         27.9          -\n",
       "1                 -           900            -          -\n",
       "2                 -           250            -          -\n",
       "3                51     Saturação            -          -\n",
       "4                51     Saturação            -        0.0\n",
       "5                 -           250            -          -\n",
       "6               110           250            -          -\n",
       "7                 -          6495         27.9          -\n",
       "8               110           250            -          -\n",
       "9                 -           900            -          -\n",
       "10        Saturação           900         6.94        1.0\n",
       "11        Saturação           900         6.94        0.0"
      ]
     },
     "metadata": {},
     "output_type": "display_data"
    }
   ],
   "source": [
    "df = read_excel('data.xlsx')\n",
    "display(df.replace(nan, '-'))"
   ]
  },
  {
   "cell_type": "markdown",
   "metadata": {},
   "source": [
    "Dados fornecidos"
   ]
  },
  {
   "cell_type": "code",
   "execution_count": 102,
   "metadata": {},
   "outputs": [],
   "source": [
    "fluido = 'Water'\n",
    "n_turb, n_pump = 0.85, 0.85"
   ]
  },
  {
   "cell_type": "markdown",
   "metadata": {},
   "source": [
    "Inserindo temperatura de saturação na tabela e convertendo para K"
   ]
  },
  {
   "cell_type": "code",
   "execution_count": 103,
   "metadata": {},
   "outputs": [],
   "source": [
    "T, c = [], 0\n",
    "\n",
    "for i in df['Temperatura [ºC]']:\n",
    "    c = c + 1\n",
    "    try:\n",
    "        if i == 'Saturação':\n",
    "            T.insert(c-1, round(prop('T', 'P', df['Pressão [kPa]'][c-1], 'Q', 0, fluido), 2) )\n",
    "        else:\n",
    "            T.insert(c-1, i + 273.15)\n",
    "    except ValueError or NameError:\n",
    "        print(f'Sem informações de pressão no estado {c}')"
   ]
  },
  {
   "cell_type": "markdown",
   "metadata": {},
   "source": [
    "Inserindo pressão de saturação na tabela "
   ]
  },
  {
   "cell_type": "code",
   "execution_count": 104,
   "metadata": {},
   "outputs": [],
   "source": [
    "P, c = [], 0\n",
    "for i in df['Pressão [kPa]']:\n",
    "    c = c + 1\n",
    "    try:\n",
    "        if i == 'Saturação':\n",
    "            P.insert(c-1, round(prop('P', 'T', T[c-1], 'Q', 0, fluido),2) )\n",
    "        else:\n",
    "            P.insert(c-1, i)\n",
    "    except ValueError or NameError:\n",
    "        print(f'Sem informações de temperatura no estado {c}')"
   ]
  },
  {
   "cell_type": "markdown",
   "metadata": {},
   "source": [
    "Definindo valores de vazão e titulo a partir da tabela de dados"
   ]
  },
  {
   "cell_type": "code",
   "execution_count": 105,
   "metadata": {},
   "outputs": [],
   "source": [
    "V = df['Vazão [kg/s]']\n",
    "x = df['Título [-]']"
   ]
  },
  {
   "cell_type": "markdown",
   "metadata": {},
   "source": [
    "## Definindo estados ##"
   ]
  },
  {
   "cell_type": "markdown",
   "metadata": {},
   "source": [
    "Definindo estados em função da pressão e temperatura com dados fornecidos"
   ]
  },
  {
   "cell_type": "markdown",
   "metadata": {},
   "source": [
    "$$ st: Estado $$\n",
    "$$st: st(P, T)$$"
   ]
  },
  {
   "cell_type": "code",
   "execution_count": 106,
   "metadata": {},
   "outputs": [],
   "source": [
    "st1 = st(fluido, {'P': P[0], 'T': T[0] })\n",
    "st4 = st(fluido, {'P': P[3], 'T': T[3] })\n",
    "st7 = st(fluido, {'P': P[6], 'T': T[6] })\n",
    "st9 = st(fluido, {'P': P[8], 'T': T[8]})\n",
    "st11 = st(fluido, {'P': P[10], 'T': T[10]})"
   ]
  },
  {
   "cell_type": "markdown",
   "metadata": {},
   "source": [
    "Definindo estados em função da pressão e titulo com dados fornecidos"
   ]
  },
  {
   "cell_type": "markdown",
   "metadata": {},
   "source": [
    "$$st: st(P, x)$$"
   ]
  },
  {
   "cell_type": "code",
   "execution_count": 107,
   "metadata": {},
   "outputs": [],
   "source": [
    "st5 = st(fluido, {'P': P[4], 'Q': x[4] })\n",
    "st12 = st(fluido, {'P': P[11], 'Q': x[11]})"
   ]
  },
  {
   "cell_type": "markdown",
   "metadata": {},
   "source": [
    "Definindo estados a partir da equação de eficiência isentrópica para turbinas"
   ]
  },
  {
   "cell_type": "markdown",
   "metadata": {},
   "source": [
    "$$ \\eta_{turb} = \\frac{h_{n-1} - h_{n}}{h_{n-1} - h_{ns}} $$"
   ]
  },
  {
   "cell_type": "markdown",
   "metadata": {},
   "source": [
    "Estado 2"
   ]
  },
  {
   "cell_type": "markdown",
   "metadata": {},
   "source": [
    "$$ st_{2s}: st_{2s}(P_{2}, S_{1}) $$\n",
    "$$ h_{2} = h_{1} - \\eta_{turb}(h_{1} - h_{2s}) $$\n",
    "$$ st_{2}: st_{2}(P_{2}, h_{2}) $$"
   ]
  },
  {
   "cell_type": "code",
   "execution_count": 108,
   "metadata": {},
   "outputs": [],
   "source": [
    "st2s = st(fluido, {'P': P[1], 'S': st1.s})\n",
    "h2 = st1.h - n_turb*(st1.h - st2s.h)\n",
    "st2 = st(fluido, {'P': P[1], 'H': h2})"
   ]
  },
  {
   "cell_type": "markdown",
   "metadata": {},
   "source": [
    "Estado 3"
   ]
  },
  {
   "cell_type": "markdown",
   "metadata": {},
   "source": [
    "$$ st_{3s}: st_{3s}(P_{3}, S_{2}) $$\n",
    "$$ h_{3} = h_{2} - \\eta_{turb}(h_{2} - h_{3s}) $$\n",
    "$$ st_{3}: st_{2}(P_{3}, h_{3}) $$"
   ]
  },
  {
   "cell_type": "code",
   "execution_count": 109,
   "metadata": {},
   "outputs": [],
   "source": [
    "st3s = st(fluido, {'P': P[2], 'S': st2.s })\n",
    "h3 = st2.h - n_turb*(st2.h - st3s.h)\n",
    "st3 = st(fluido, {'P': P[2], 'H': h3 })"
   ]
  },
  {
   "cell_type": "markdown",
   "metadata": {},
   "source": [
    "Definindo estados a partir da equação de eficiência isentrópica para bombas"
   ]
  },
  {
   "cell_type": "markdown",
   "metadata": {},
   "source": [
    "$$ \\eta_{pump} = \\frac{h_{ns} - h_{n-1}}{h_{n} - h_{n-1}} $$"
   ]
  },
  {
   "cell_type": "markdown",
   "metadata": {},
   "source": [
    "Estado 6"
   ]
  },
  {
   "cell_type": "markdown",
   "metadata": {},
   "source": [
    "$$ st_{6s}: st_{6s}(P_{6}, S_{5}) $$\n",
    "$$ h_{6} = h_{5} + \\frac{h_{6s} - h_{5}}{\\eta_{pump}} $$\n",
    "$$ st_{6}: st_{6}(P_{6}, h_{6}) $$"
   ]
  },
  {
   "cell_type": "code",
   "execution_count": 110,
   "metadata": {},
   "outputs": [],
   "source": [
    "st6s = st(fluido, {'P': P[5], 'S': st5.s })  \n",
    "h6 = st5.h + (st6s.h - st5.h)/n_pump\n",
    "st6 = st(fluido, {'P': P[5], 'H': h6 })"
   ]
  },
  {
   "cell_type": "markdown",
   "metadata": {},
   "source": [
    "Estado 8"
   ]
  },
  {
   "cell_type": "markdown",
   "metadata": {},
   "source": [
    "$$ st_{8s}: st_{8s}(P_{8}, S_{7}) $$\n",
    "$$ h_{8} = h_{7} + \\frac{h_{8s} - h_{7}}{\\eta_{pump}} $$\n",
    "$$ st_{8}: st_{8}(P_{8}, h_{8}) $$"
   ]
  },
  {
   "cell_type": "code",
   "execution_count": 111,
   "metadata": {},
   "outputs": [],
   "source": [
    "st8s = st(fluido, {'P': P[7], 'S': st7.s })  ###\n",
    "h8 = st7.h + (st8s.h - st7.h)/n_pump\n",
    "st8 = st(fluido, {'P': P[7], 'H': h8 })"
   ]
  },
  {
   "cell_type": "markdown",
   "metadata": {},
   "source": [
    "Estado 10"
   ]
  },
  {
   "cell_type": "markdown",
   "metadata": {},
   "source": [
    "$$ st_{10s}: st_{10s}(P_{10}, S_{9}) $$\n",
    "$$ h_{10} = h_{9} + \\frac{h_{10s} - h_{9}}{\\eta_{pump}} $$\n",
    "$$ st_{10}: st_{10}(P_{10}, h_{10}) $$"
   ]
  },
  {
   "cell_type": "code",
   "execution_count": 112,
   "metadata": {},
   "outputs": [],
   "source": [
    "st10s = st(fluido, {'P': P[9], 'S': st9.s}) \n",
    "h10 = st9.h + (st10s.h - st9.h)/n_pump\n",
    "st10 = st(fluido, {'P': P[9], 'H': h10 })"
   ]
  },
  {
   "cell_type": "markdown",
   "metadata": {},
   "source": [
    "## Obtendo valores de temperatura, pressão, entalpia, entropia e titulo para todos os estados ##"
   ]
  },
  {
   "cell_type": "code",
   "execution_count": 113,
   "metadata": {},
   "outputs": [],
   "source": [
    "estds = st1, st2, st3, st4, st5, st6, st7, st8, st9, st10, st11, st12\n",
    "\n",
    "temperatura, pressao, entalpia, entropia, titulo, estados = [], [], [], [], [], arange(1, len(estds)+1, 1)\n",
    "\n",
    "for i in estds: \n",
    "    temperatura.append(i.T)\n",
    "    pressao.append(i.p)\n",
    "    entalpia.append(i.h)\n",
    "    entropia.append(i.s)\n",
    "    if absolute(round(i.Q, 2)) == 1:\n",
    "        titulo.append('Vap. Sat.')\n",
    "    elif i.Q == 0:\n",
    "        titulo.append('Liq. Sat.')\n",
    "    else:\n",
    "        titulo.append(i.Q)"
   ]
  },
  {
   "cell_type": "markdown",
   "metadata": {},
   "source": [
    "Definindo dicionário de dados dos estados e criando tabela"
   ]
  },
  {
   "cell_type": "code",
   "execution_count": 114,
   "metadata": {},
   "outputs": [],
   "source": [
    "data_st = {\n",
    "    'Estado': estados,\n",
    "    'Temperatura [ºC]': temperatura,\n",
    "    'Pressão [kPa]': pressao,\n",
    "    'Entalpia [kJ/kg]': entalpia,\n",
    "    'Entropia [kJ/kg/K]': entropia,\n",
    "    'Titulo [-]': titulo\n",
    "}\n",
    "\n",
    "df_st = DataFrame(data_st).style.hide(axis='index').format(precision=2)"
   ]
  },
  {
   "cell_type": "markdown",
   "metadata": {},
   "source": [
    "## Resultados ##"
   ]
  },
  {
   "cell_type": "code",
   "execution_count": 115,
   "metadata": {},
   "outputs": [
    {
     "data": {
      "text/html": [
       "<style type=\"text/css\">\n",
       "</style>\n",
       "<table id=\"T_65f4a\">\n",
       "  <thead>\n",
       "    <tr>\n",
       "      <th id=\"T_65f4a_level0_col0\" class=\"col_heading level0 col0\" >Estado</th>\n",
       "      <th id=\"T_65f4a_level0_col1\" class=\"col_heading level0 col1\" >Temperatura [ºC]</th>\n",
       "      <th id=\"T_65f4a_level0_col2\" class=\"col_heading level0 col2\" >Pressão [kPa]</th>\n",
       "      <th id=\"T_65f4a_level0_col3\" class=\"col_heading level0 col3\" >Entalpia [kJ/kg]</th>\n",
       "      <th id=\"T_65f4a_level0_col4\" class=\"col_heading level0 col4\" >Entropia [kJ/kg/K]</th>\n",
       "      <th id=\"T_65f4a_level0_col5\" class=\"col_heading level0 col5\" >Titulo [-]</th>\n",
       "    </tr>\n",
       "  </thead>\n",
       "  <tbody>\n",
       "    <tr>\n",
       "      <td id=\"T_65f4a_row0_col0\" class=\"data row0 col0\" >1</td>\n",
       "      <td id=\"T_65f4a_row0_col1\" class=\"data row0 col1\" >758.15</td>\n",
       "      <td id=\"T_65f4a_row0_col2\" class=\"data row0 col2\" >6495.00</td>\n",
       "      <td id=\"T_65f4a_row0_col3\" class=\"data row0 col3\" >3381.20</td>\n",
       "      <td id=\"T_65f4a_row0_col4\" class=\"data row0 col4\" >6.79</td>\n",
       "      <td id=\"T_65f4a_row0_col5\" class=\"data row0 col5\" >Vap. Sat.</td>\n",
       "    </tr>\n",
       "    <tr>\n",
       "      <td id=\"T_65f4a_row1_col0\" class=\"data row1 col0\" >2</td>\n",
       "      <td id=\"T_65f4a_row1_col1\" class=\"data row1 col1\" >516.42</td>\n",
       "      <td id=\"T_65f4a_row1_col2\" class=\"data row1 col2\" >900.00</td>\n",
       "      <td id=\"T_65f4a_row1_col3\" class=\"data row1 col3\" >2932.08</td>\n",
       "      <td id=\"T_65f4a_row1_col4\" class=\"data row1 col4\" >6.95</td>\n",
       "      <td id=\"T_65f4a_row1_col5\" class=\"data row1 col5\" >Vap. Sat.</td>\n",
       "    </tr>\n",
       "    <tr>\n",
       "      <td id=\"T_65f4a_row2_col0\" class=\"data row2 col0\" >3</td>\n",
       "      <td id=\"T_65f4a_row2_col1\" class=\"data row2 col1\" >400.56</td>\n",
       "      <td id=\"T_65f4a_row2_col2\" class=\"data row2 col2\" >250.00</td>\n",
       "      <td id=\"T_65f4a_row2_col3\" class=\"data row2 col3\" >2714.68</td>\n",
       "      <td id=\"T_65f4a_row2_col4\" class=\"data row2 col4\" >7.05</td>\n",
       "      <td id=\"T_65f4a_row2_col5\" class=\"data row2 col5\" >Vap. Sat.</td>\n",
       "    </tr>\n",
       "    <tr>\n",
       "      <td id=\"T_65f4a_row3_col0\" class=\"data row3 col0\" >4</td>\n",
       "      <td id=\"T_65f4a_row3_col1\" class=\"data row3 col1\" >324.15</td>\n",
       "      <td id=\"T_65f4a_row3_col2\" class=\"data row3 col2\" >12978.07</td>\n",
       "      <td id=\"T_65f4a_row3_col3\" class=\"data row3 col3\" >224.65</td>\n",
       "      <td id=\"T_65f4a_row3_col4\" class=\"data row3 col4\" >0.71</td>\n",
       "      <td id=\"T_65f4a_row3_col5\" class=\"data row3 col5\" >Vap. Sat.</td>\n",
       "    </tr>\n",
       "    <tr>\n",
       "      <td id=\"T_65f4a_row4_col0\" class=\"data row4 col0\" >5</td>\n",
       "      <td id=\"T_65f4a_row4_col1\" class=\"data row4 col1\" >603.87</td>\n",
       "      <td id=\"T_65f4a_row4_col2\" class=\"data row4 col2\" >12978.07</td>\n",
       "      <td id=\"T_65f4a_row4_col3\" class=\"data row4 col3\" >1530.64</td>\n",
       "      <td id=\"T_65f4a_row4_col4\" class=\"data row4 col4\" >3.56</td>\n",
       "      <td id=\"T_65f4a_row4_col5\" class=\"data row4 col5\" >Liq. Sat.</td>\n",
       "    </tr>\n",
       "    <tr>\n",
       "      <td id=\"T_65f4a_row5_col0\" class=\"data row5 col0\" >6</td>\n",
       "      <td id=\"T_65f4a_row5_col1\" class=\"data row5 col1\" >400.56</td>\n",
       "      <td id=\"T_65f4a_row5_col2\" class=\"data row5 col2\" >250.00</td>\n",
       "      <td id=\"T_65f4a_row5_col3\" class=\"data row5 col3\" >1279.66</td>\n",
       "      <td id=\"T_65f4a_row5_col4\" class=\"data row5 col4\" >3.47</td>\n",
       "      <td id=\"T_65f4a_row5_col5\" class=\"data row5 col5\" >0.34</td>\n",
       "    </tr>\n",
       "    <tr>\n",
       "      <td id=\"T_65f4a_row6_col0\" class=\"data row6 col0\" >7</td>\n",
       "      <td id=\"T_65f4a_row6_col1\" class=\"data row6 col1\" >383.15</td>\n",
       "      <td id=\"T_65f4a_row6_col2\" class=\"data row6 col2\" >250.00</td>\n",
       "      <td id=\"T_65f4a_row6_col3\" class=\"data row6 col3\" >461.49</td>\n",
       "      <td id=\"T_65f4a_row6_col4\" class=\"data row6 col4\" >1.42</td>\n",
       "      <td id=\"T_65f4a_row6_col5\" class=\"data row6 col5\" >Vap. Sat.</td>\n",
       "    </tr>\n",
       "    <tr>\n",
       "      <td id=\"T_65f4a_row7_col0\" class=\"data row7 col0\" >8</td>\n",
       "      <td id=\"T_65f4a_row7_col1\" class=\"data row7 col1\" >383.90</td>\n",
       "      <td id=\"T_65f4a_row7_col2\" class=\"data row7 col2\" >6495.00</td>\n",
       "      <td id=\"T_65f4a_row7_col3\" class=\"data row7 col3\" >469.21</td>\n",
       "      <td id=\"T_65f4a_row7_col4\" class=\"data row7 col4\" >1.42</td>\n",
       "      <td id=\"T_65f4a_row7_col5\" class=\"data row7 col5\" >Vap. Sat.</td>\n",
       "    </tr>\n",
       "    <tr>\n",
       "      <td id=\"T_65f4a_row8_col0\" class=\"data row8 col0\" >9</td>\n",
       "      <td id=\"T_65f4a_row8_col1\" class=\"data row8 col1\" >383.15</td>\n",
       "      <td id=\"T_65f4a_row8_col2\" class=\"data row8 col2\" >250.00</td>\n",
       "      <td id=\"T_65f4a_row8_col3\" class=\"data row8 col3\" >461.49</td>\n",
       "      <td id=\"T_65f4a_row8_col4\" class=\"data row8 col4\" >1.42</td>\n",
       "      <td id=\"T_65f4a_row8_col5\" class=\"data row8 col5\" >Vap. Sat.</td>\n",
       "    </tr>\n",
       "    <tr>\n",
       "      <td id=\"T_65f4a_row9_col0\" class=\"data row9 col0\" >10</td>\n",
       "      <td id=\"T_65f4a_row9_col1\" class=\"data row9 col1\" >383.23</td>\n",
       "      <td id=\"T_65f4a_row9_col2\" class=\"data row9 col2\" >900.00</td>\n",
       "      <td id=\"T_65f4a_row9_col3\" class=\"data row9 col3\" >462.30</td>\n",
       "      <td id=\"T_65f4a_row9_col4\" class=\"data row9 col4\" >1.42</td>\n",
       "      <td id=\"T_65f4a_row9_col5\" class=\"data row9 col5\" >Vap. Sat.</td>\n",
       "    </tr>\n",
       "    <tr>\n",
       "      <td id=\"T_65f4a_row10_col0\" class=\"data row10 col0\" >11</td>\n",
       "      <td id=\"T_65f4a_row10_col1\" class=\"data row10 col1\" >278.59</td>\n",
       "      <td id=\"T_65f4a_row10_col2\" class=\"data row10 col2\" >900.00</td>\n",
       "      <td id=\"T_65f4a_row10_col3\" class=\"data row10 col3\" >23.76</td>\n",
       "      <td id=\"T_65f4a_row10_col4\" class=\"data row10 col4\" >0.08</td>\n",
       "      <td id=\"T_65f4a_row10_col5\" class=\"data row10 col5\" >Vap. Sat.</td>\n",
       "    </tr>\n",
       "    <tr>\n",
       "      <td id=\"T_65f4a_row11_col0\" class=\"data row11 col0\" >12</td>\n",
       "      <td id=\"T_65f4a_row11_col1\" class=\"data row11 col1\" >448.50</td>\n",
       "      <td id=\"T_65f4a_row11_col2\" class=\"data row11 col2\" >900.00</td>\n",
       "      <td id=\"T_65f4a_row11_col3\" class=\"data row11 col3\" >742.56</td>\n",
       "      <td id=\"T_65f4a_row11_col4\" class=\"data row11 col4\" >2.09</td>\n",
       "      <td id=\"T_65f4a_row11_col5\" class=\"data row11 col5\" >Liq. Sat.</td>\n",
       "    </tr>\n",
       "  </tbody>\n",
       "</table>\n"
      ],
      "text/plain": [
       "<pandas.io.formats.style.Styler at 0x1ff3ad5d5b0>"
      ]
     },
     "metadata": {},
     "output_type": "display_data"
    }
   ],
   "source": [
    "display(df_st)"
   ]
  },
  {
   "cell_type": "markdown",
   "metadata": {},
   "source": [
    "## Trabalho, calor e eficiência ##"
   ]
  },
  {
   "cell_type": "markdown",
   "metadata": {},
   "source": [
    "$$ \\omega_{pump, in} = \\eta_{pump}((h_{6} - h_{5}) + (h_{10} - h_{9}) + (h_{8} - h_{7}))  $$\n",
    "$$ \\omega_{turb, out} = \\eta_{turb}((h_{2} - h_{1}) + (h_{3} - h_{2}) + (h_{4} - h_{3}))  $$\n",
    "$$ q_{in} = h_{1} - h_{8} $$\n",
    "$$ q_{out} = h_{4} - h_{5} $$\n",
    "$$\\eta_{th} = 1 - \\frac{q_{out}}{q_{in}}$$"
   ]
  },
  {
   "cell_type": "markdown",
   "metadata": {},
   "source": [
    "Considerando a turbina em regime permanente ($ V_{in} = V{out} $) temos que o trabalho realizado é dado pela equação:"
   ]
  },
  {
   "cell_type": "markdown",
   "metadata": {},
   "source": [
    "$$ \\dot{W} = \\frac{dm}{dt}\\omega_{turb, out} = V_{1} \\omega_{turb, out}$$"
   ]
  },
  {
   "cell_type": "code",
   "execution_count": 116,
   "metadata": {},
   "outputs": [],
   "source": [
    "w_pump_in = n_pump*((st5.h - st6.h) + (st9.h - st10.h) + (st7.h - st8.h))  \n",
    "w_turb_out = n_turb*((st1.h - st2.h) + (st2.h - st3.h) + (st3.h - st4.h))\n",
    "q_in = st1.h - st8.h\n",
    "q_out = st5.h - st4.h\n",
    "n_th = 100*( 1 - (q_out/q_in))\n",
    "W = V[0]*w_turb_out"
   ]
  },
  {
   "cell_type": "markdown",
   "metadata": {},
   "source": [
    "Definindo dicionário de dados de trabalho, calor e eficiêcia e criando tabela"
   ]
  },
  {
   "cell_type": "code",
   "execution_count": 117,
   "metadata": {},
   "outputs": [],
   "source": [
    "data = {\n",
    "    'w_pump_in [kJ/kg]': [w_pump_in],\n",
    "    'w_turb_out [kJ/kg]': w_turb_out,\n",
    "    'q_in [kJ/kg]': q_in,\n",
    "    'q_out [kJ/kg]': q_out,\n",
    "    'W [kW]': W,\n",
    "    'η_th [%]': n_th\n",
    "}\n",
    "\n",
    "df = DataFrame(data).style.hide(axis='index').format(precision=2)"
   ]
  },
  {
   "cell_type": "markdown",
   "metadata": {},
   "source": [
    "## Resultados ##"
   ]
  },
  {
   "cell_type": "code",
   "execution_count": 118,
   "metadata": {},
   "outputs": [
    {
     "data": {
      "text/html": [
       "<style type=\"text/css\">\n",
       "</style>\n",
       "<table id=\"T_71c57\">\n",
       "  <thead>\n",
       "    <tr>\n",
       "      <th id=\"T_71c57_level0_col0\" class=\"col_heading level0 col0\" >w_pump_in [kJ/kg]</th>\n",
       "      <th id=\"T_71c57_level0_col1\" class=\"col_heading level0 col1\" >w_turb_out [kJ/kg]</th>\n",
       "      <th id=\"T_71c57_level0_col2\" class=\"col_heading level0 col2\" >q_in [kJ/kg]</th>\n",
       "      <th id=\"T_71c57_level0_col3\" class=\"col_heading level0 col3\" >q_out [kJ/kg]</th>\n",
       "      <th id=\"T_71c57_level0_col4\" class=\"col_heading level0 col4\" >W [kW]</th>\n",
       "      <th id=\"T_71c57_level0_col5\" class=\"col_heading level0 col5\" >η_th [%]</th>\n",
       "    </tr>\n",
       "  </thead>\n",
       "  <tbody>\n",
       "    <tr>\n",
       "      <td id=\"T_71c57_row0_col0\" class=\"data row0 col0\" >206.09</td>\n",
       "      <td id=\"T_71c57_row0_col1\" class=\"data row0 col1\" >2683.07</td>\n",
       "      <td id=\"T_71c57_row0_col2\" class=\"data row0 col2\" >2911.99</td>\n",
       "      <td id=\"T_71c57_row0_col3\" class=\"data row0 col3\" >1305.99</td>\n",
       "      <td id=\"T_71c57_row0_col4\" class=\"data row0 col4\" >74857.53</td>\n",
       "      <td id=\"T_71c57_row0_col5\" class=\"data row0 col5\" >55.15</td>\n",
       "    </tr>\n",
       "  </tbody>\n",
       "</table>\n"
      ],
      "text/plain": [
       "<pandas.io.formats.style.Styler at 0x1ff3ff63bb0>"
      ]
     },
     "metadata": {},
     "output_type": "display_data"
    }
   ],
   "source": [
    "display(df)"
   ]
  },
  {
   "cell_type": "markdown",
   "metadata": {},
   "source": [
    "Fazer a modelagem com condensador para que sua temperatura de condensação \n",
    "varie conforme a vazão de condensado. Mostrar essa variação."
   ]
  },
  {
   "cell_type": "markdown",
   "metadata": {},
   "source": [
    "![Condensador](img/Condensador.jpeg \"Condensador\")"
   ]
  },
  {
   "cell_type": "code",
   "execution_count": null,
   "metadata": {},
   "outputs": [],
   "source": []
  },
  {
   "cell_type": "code",
   "execution_count": null,
   "metadata": {},
   "outputs": [],
   "source": []
  },
  {
   "cell_type": "code",
   "execution_count": null,
   "metadata": {},
   "outputs": [],
   "source": []
  },
  {
   "cell_type": "markdown",
   "metadata": {},
   "source": [
    "Desenvolver a análise de primeira lei para o esquema de caldeira abaixo. \n",
    "Considerar que este sistema está inserido dentro do ciclo de potência já desenvolvido \n",
    "(Fig. 1).\n"
   ]
  },
  {
   "cell_type": "markdown",
   "metadata": {},
   "source": [
    "![Caldeira](img/Caldeira.jpeg \"Caldeira\")"
   ]
  }
 ],
 "metadata": {
  "interpreter": {
   "hash": "9f28cbbf921d7479c98a9b400630867feadfeec979835611b7a5d3ea644f7290"
  },
  "kernelspec": {
   "display_name": "Python 3.8.12 ('downgrade')",
   "language": "python",
   "name": "python3"
  },
  "language_info": {
   "codemirror_mode": {
    "name": "ipython",
    "version": 3
   },
   "file_extension": ".py",
   "mimetype": "text/x-python",
   "name": "python",
   "nbconvert_exporter": "python",
   "pygments_lexer": "ipython3",
   "version": "3.8.12"
  },
  "orig_nbformat": 4
 },
 "nbformat": 4,
 "nbformat_minor": 2
}
