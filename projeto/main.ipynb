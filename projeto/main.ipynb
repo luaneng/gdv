{
 "cells": [
  {
   "cell_type": "markdown",
   "metadata": {},
   "source": [
    "Modelar o ciclo de cogeração ilustrado abaixo. Permitir que o processo varie de \n",
    "0% (desligado) até 100% (completamente ligado)."
   ]
  },
  {
   "cell_type": "markdown",
   "metadata": {},
   "source": [
    "![Ciclo](img/ciclo.jpeg \"Ciclo\")"
   ]
  },
  {
   "cell_type": "code",
   "execution_count": 1,
   "metadata": {},
   "outputs": [],
   "source": [
    "import pandas as pd"
   ]
  },
  {
   "cell_type": "code",
   "execution_count": 2,
   "metadata": {},
   "outputs": [
    {
     "data": {
      "text/html": [
       "<div>\n",
       "<style scoped>\n",
       "    .dataframe tbody tr th:only-of-type {\n",
       "        vertical-align: middle;\n",
       "    }\n",
       "\n",
       "    .dataframe tbody tr th {\n",
       "        vertical-align: top;\n",
       "    }\n",
       "\n",
       "    .dataframe thead th {\n",
       "        text-align: right;\n",
       "    }\n",
       "</style>\n",
       "<table border=\"1\" class=\"dataframe\">\n",
       "  <thead>\n",
       "    <tr style=\"text-align: right;\">\n",
       "      <th></th>\n",
       "      <th>Temperatura [ºC]</th>\n",
       "      <th>Pressão [kPa]</th>\n",
       "      <th>Vazão [kg/s]</th>\n",
       "      <th>Título [-]</th>\n",
       "    </tr>\n",
       "  </thead>\n",
       "  <tbody>\n",
       "    <tr>\n",
       "      <th>0</th>\n",
       "      <td>485</td>\n",
       "      <td>6495</td>\n",
       "      <td>27.90</td>\n",
       "      <td>NaN</td>\n",
       "    </tr>\n",
       "    <tr>\n",
       "      <th>1</th>\n",
       "      <td>NaN</td>\n",
       "      <td>900</td>\n",
       "      <td>NaN</td>\n",
       "      <td>NaN</td>\n",
       "    </tr>\n",
       "    <tr>\n",
       "      <th>2</th>\n",
       "      <td>NaN</td>\n",
       "      <td>250</td>\n",
       "      <td>NaN</td>\n",
       "      <td>NaN</td>\n",
       "    </tr>\n",
       "    <tr>\n",
       "      <th>3</th>\n",
       "      <td>51</td>\n",
       "      <td>Saturação</td>\n",
       "      <td>NaN</td>\n",
       "      <td>NaN</td>\n",
       "    </tr>\n",
       "    <tr>\n",
       "      <th>4</th>\n",
       "      <td>51</td>\n",
       "      <td>Saturação</td>\n",
       "      <td>NaN</td>\n",
       "      <td>0.0</td>\n",
       "    </tr>\n",
       "    <tr>\n",
       "      <th>5</th>\n",
       "      <td>NaN</td>\n",
       "      <td>250</td>\n",
       "      <td>NaN</td>\n",
       "      <td>NaN</td>\n",
       "    </tr>\n",
       "    <tr>\n",
       "      <th>6</th>\n",
       "      <td>110</td>\n",
       "      <td>250</td>\n",
       "      <td>NaN</td>\n",
       "      <td>NaN</td>\n",
       "    </tr>\n",
       "    <tr>\n",
       "      <th>7</th>\n",
       "      <td>NaN</td>\n",
       "      <td>6495</td>\n",
       "      <td>27.90</td>\n",
       "      <td>NaN</td>\n",
       "    </tr>\n",
       "    <tr>\n",
       "      <th>8</th>\n",
       "      <td>110</td>\n",
       "      <td>250</td>\n",
       "      <td>NaN</td>\n",
       "      <td>NaN</td>\n",
       "    </tr>\n",
       "    <tr>\n",
       "      <th>9</th>\n",
       "      <td>NaN</td>\n",
       "      <td>900</td>\n",
       "      <td>NaN</td>\n",
       "      <td>NaN</td>\n",
       "    </tr>\n",
       "    <tr>\n",
       "      <th>10</th>\n",
       "      <td>Saturação</td>\n",
       "      <td>900</td>\n",
       "      <td>6.94</td>\n",
       "      <td>1.0</td>\n",
       "    </tr>\n",
       "    <tr>\n",
       "      <th>11</th>\n",
       "      <td>Saturação</td>\n",
       "      <td>900</td>\n",
       "      <td>6.94</td>\n",
       "      <td>0.0</td>\n",
       "    </tr>\n",
       "  </tbody>\n",
       "</table>\n",
       "</div>"
      ],
      "text/plain": [
       "   Temperatura [ºC] Pressão [kPa]  Vazão [kg/s]  Título [-]\n",
       "0               485          6495         27.90         NaN\n",
       "1               NaN           900           NaN         NaN\n",
       "2               NaN           250           NaN         NaN\n",
       "3                51     Saturação           NaN         NaN\n",
       "4                51     Saturação           NaN         0.0\n",
       "5               NaN           250           NaN         NaN\n",
       "6               110           250           NaN         NaN\n",
       "7               NaN          6495         27.90         NaN\n",
       "8               110           250           NaN         NaN\n",
       "9               NaN           900           NaN         NaN\n",
       "10        Saturação           900          6.94         1.0\n",
       "11        Saturação           900          6.94         0.0"
      ]
     },
     "metadata": {},
     "output_type": "display_data"
    }
   ],
   "source": [
    "df = pd.read_excel('data.xlsx')\n",
    "display(df)"
   ]
  },
  {
   "cell_type": "code",
   "execution_count": 3,
   "metadata": {},
   "outputs": [],
   "source": [
    "from CoolProp.CoolProp import PropsSI as prop"
   ]
  },
  {
   "cell_type": "code",
   "execution_count": 4,
   "metadata": {},
   "outputs": [],
   "source": [
    "fluido = 'Water'"
   ]
  },
  {
   "cell_type": "markdown",
   "metadata": {},
   "source": [
    "Inserindo temperatura de saturação na tabela e convertendo para K"
   ]
  },
  {
   "cell_type": "code",
   "execution_count": 21,
   "metadata": {},
   "outputs": [],
   "source": [
    "T, c = [], 0\n",
    "\n",
    "for i in df['Temperatura [ºC]']:\n",
    "    c = c + 1\n",
    "    try:\n",
    "        if i == 'Saturação':\n",
    "            T.insert(c-1, round(prop('T', 'P', df['Pressão [kPa]'][c-1], 'Q', 0, fluido), 2) )\n",
    "        else:\n",
    "            T.insert(c-1, i + 273.15)\n",
    "    except:\n",
    "        print(f'Sem informações de pressão no estado {c}')\n",
    "    "
   ]
  },
  {
   "cell_type": "markdown",
   "metadata": {},
   "source": [
    "Inserindo pressão de saturação na tabela "
   ]
  },
  {
   "cell_type": "code",
   "execution_count": 22,
   "metadata": {},
   "outputs": [],
   "source": [
    "P, c = [], 0\n",
    "for i in df['Pressão [kPa]']:\n",
    "    c = c + 1\n",
    "    try:\n",
    "        if i == 'Saturação':\n",
    "            P.insert(c-1, round(prop('P', 'T', T[c-1], 'Q', 0, fluido),2) )\n",
    "        else:\n",
    "            P.insert(c-1, i)\n",
    "    except:\n",
    "        print(f'Sem informações de temperatura no estado {c}')"
   ]
  },
  {
   "cell_type": "code",
   "execution_count": 7,
   "metadata": {},
   "outputs": [],
   "source": [
    "from CoolProp.CoolProp import State as st\n",
    "from numpy import arange, absolute"
   ]
  },
  {
   "cell_type": "code",
   "execution_count": 8,
   "metadata": {},
   "outputs": [],
   "source": [
    "V = df['Vazão [kg/s]']\n",
    "x = df['Título [-]']"
   ]
  },
  {
   "cell_type": "code",
   "execution_count": 23,
   "metadata": {},
   "outputs": [],
   "source": [
    "st1 = st(fluido, {'P': P[0], 'T': T[0] })\n",
    "st4 = st(fluido, {'P': P[3], 'T': T[3] })\n",
    "st5 = st(fluido, {'P': P[4], 'T': T[4] })\n",
    "st7 = st(fluido, {'P': P[6], 'T': T[6] })\n",
    "st9 = st(fluido, {'P': P[8], 'T': T[8]})\n",
    "st11 = st(fluido, {'P': P[10], 'T': T[10]})\n",
    "st12 = st(fluido, {'P': P[11], 'T': T[11]})"
   ]
  },
  {
   "cell_type": "markdown",
   "metadata": {},
   "source": [
    "_Eficiência isentrópica_ <br/>\n",
    "Turbina: $$ \\eta_{turb} = \\frac{h_{3} - h_{4}}{h_{3} - h_{4s}} $$\n",
    "Bomba: $$ \\eta_{pump} = \\frac{h_{2s} - h_{1}}{h_{2} - h_{1}} $$"
   ]
  },
  {
   "cell_type": "markdown",
   "metadata": {},
   "source": [
    "## TESTE ##"
   ]
  },
  {
   "cell_type": "code",
   "execution_count": 17,
   "metadata": {},
   "outputs": [],
   "source": [
    "st2 = st(fluido, {'P': P[0], 'T': T[0] })\n",
    "st3 = st(fluido, {'P': P[3], 'T': T[3] })\n",
    "st6 = st(fluido, {'P': P[4], 'T': T[4] })\n",
    "st8 = st(fluido, {'P': P[6], 'T': T[6] })\n",
    "st10 = st(fluido, {'P': P[8], 'T': T[8]})\n",
    "st11 = st(fluido, {'P': P[10], 'T': T[10]})\n",
    "st12 = st(fluido, {'P': P[11], 'T': T[11]})"
   ]
  },
  {
   "cell_type": "markdown",
   "metadata": {},
   "source": [
    "## FIM ##"
   ]
  },
  {
   "cell_type": "code",
   "execution_count": 18,
   "metadata": {},
   "outputs": [],
   "source": [
    "estds = st1, st2, st3, st4, st5, st6, st7, st8, st9, st10, st11, st12\n",
    "\n",
    "temperatura, pressao, entalpia, entropia, titulo, estados = [], [], [], [], [], arange(1, len(estds)+1, 1)\n",
    "\n",
    "for i in estds: \n",
    "    temperatura.append(i.T)\n",
    "    pressao.append(i.p)\n",
    "    entalpia.append(i.h)\n",
    "    entropia.append(i.s)\n",
    "    if absolute(i.Q) == 1:\n",
    "        titulo.append('Vap. Sat.')\n",
    "    elif i.Q == 0:\n",
    "        titulo.append('Liq. Sat.')\n",
    "    else:\n",
    "        titulo.append(i.Q)"
   ]
  },
  {
   "cell_type": "code",
   "execution_count": 19,
   "metadata": {},
   "outputs": [],
   "source": [
    "data_st = {\n",
    "    'Estado': estados,\n",
    "    'Temperatura [ºC]': temperatura,\n",
    "    'Pressão [kPa]': pressao,\n",
    "    'Entalpia [kJ/kg]': entalpia,\n",
    "    'Entropia [kJ/kg/K]': entropia,\n",
    "    'Titulo [-]': titulo\n",
    "}\n",
    "\n",
    "df_st = pd.DataFrame(data_st).style.hide(axis='index').format(precision=2)"
   ]
  },
  {
   "cell_type": "code",
   "execution_count": 20,
   "metadata": {},
   "outputs": [
    {
     "data": {
      "text/html": [
       "<style type=\"text/css\">\n",
       "</style>\n",
       "<table id=\"T_f981c\">\n",
       "  <thead>\n",
       "    <tr>\n",
       "      <th id=\"T_f981c_level0_col0\" class=\"col_heading level0 col0\" >Estado</th>\n",
       "      <th id=\"T_f981c_level0_col1\" class=\"col_heading level0 col1\" >Temperatura [ºC]</th>\n",
       "      <th id=\"T_f981c_level0_col2\" class=\"col_heading level0 col2\" >Pressão [kPa]</th>\n",
       "      <th id=\"T_f981c_level0_col3\" class=\"col_heading level0 col3\" >Entalpia [kJ/kg]</th>\n",
       "      <th id=\"T_f981c_level0_col4\" class=\"col_heading level0 col4\" >Entropia [kJ/kg/K]</th>\n",
       "      <th id=\"T_f981c_level0_col5\" class=\"col_heading level0 col5\" >Titulo [-]</th>\n",
       "    </tr>\n",
       "  </thead>\n",
       "  <tbody>\n",
       "    <tr>\n",
       "      <td id=\"T_f981c_row0_col0\" class=\"data row0 col0\" >1</td>\n",
       "      <td id=\"T_f981c_row0_col1\" class=\"data row0 col1\" >758.15</td>\n",
       "      <td id=\"T_f981c_row0_col2\" class=\"data row0 col2\" >6495.00</td>\n",
       "      <td id=\"T_f981c_row0_col3\" class=\"data row0 col3\" >3381.20</td>\n",
       "      <td id=\"T_f981c_row0_col4\" class=\"data row0 col4\" >6.79</td>\n",
       "      <td id=\"T_f981c_row0_col5\" class=\"data row0 col5\" >Vap. Sat.</td>\n",
       "    </tr>\n",
       "    <tr>\n",
       "      <td id=\"T_f981c_row1_col0\" class=\"data row1 col0\" >2</td>\n",
       "      <td id=\"T_f981c_row1_col1\" class=\"data row1 col1\" >758.15</td>\n",
       "      <td id=\"T_f981c_row1_col2\" class=\"data row1 col2\" >6495.00</td>\n",
       "      <td id=\"T_f981c_row1_col3\" class=\"data row1 col3\" >3381.20</td>\n",
       "      <td id=\"T_f981c_row1_col4\" class=\"data row1 col4\" >6.79</td>\n",
       "      <td id=\"T_f981c_row1_col5\" class=\"data row1 col5\" >Vap. Sat.</td>\n",
       "    </tr>\n",
       "    <tr>\n",
       "      <td id=\"T_f981c_row2_col0\" class=\"data row2 col0\" >3</td>\n",
       "      <td id=\"T_f981c_row2_col1\" class=\"data row2 col1\" >324.15</td>\n",
       "      <td id=\"T_f981c_row2_col2\" class=\"data row2 col2\" >12978.07</td>\n",
       "      <td id=\"T_f981c_row2_col3\" class=\"data row2 col3\" >224.65</td>\n",
       "      <td id=\"T_f981c_row2_col4\" class=\"data row2 col4\" >0.71</td>\n",
       "      <td id=\"T_f981c_row2_col5\" class=\"data row2 col5\" >Vap. Sat.</td>\n",
       "    </tr>\n",
       "    <tr>\n",
       "      <td id=\"T_f981c_row3_col0\" class=\"data row3 col0\" >4</td>\n",
       "      <td id=\"T_f981c_row3_col1\" class=\"data row3 col1\" >324.15</td>\n",
       "      <td id=\"T_f981c_row3_col2\" class=\"data row3 col2\" >12978.07</td>\n",
       "      <td id=\"T_f981c_row3_col3\" class=\"data row3 col3\" >224.65</td>\n",
       "      <td id=\"T_f981c_row3_col4\" class=\"data row3 col4\" >0.71</td>\n",
       "      <td id=\"T_f981c_row3_col5\" class=\"data row3 col5\" >Vap. Sat.</td>\n",
       "    </tr>\n",
       "    <tr>\n",
       "      <td id=\"T_f981c_row4_col0\" class=\"data row4 col0\" >5</td>\n",
       "      <td id=\"T_f981c_row4_col1\" class=\"data row4 col1\" >324.15</td>\n",
       "      <td id=\"T_f981c_row4_col2\" class=\"data row4 col2\" >12978.07</td>\n",
       "      <td id=\"T_f981c_row4_col3\" class=\"data row4 col3\" >224.65</td>\n",
       "      <td id=\"T_f981c_row4_col4\" class=\"data row4 col4\" >0.71</td>\n",
       "      <td id=\"T_f981c_row4_col5\" class=\"data row4 col5\" >Vap. Sat.</td>\n",
       "    </tr>\n",
       "    <tr>\n",
       "      <td id=\"T_f981c_row5_col0\" class=\"data row5 col0\" >6</td>\n",
       "      <td id=\"T_f981c_row5_col1\" class=\"data row5 col1\" >324.15</td>\n",
       "      <td id=\"T_f981c_row5_col2\" class=\"data row5 col2\" >12978.07</td>\n",
       "      <td id=\"T_f981c_row5_col3\" class=\"data row5 col3\" >224.65</td>\n",
       "      <td id=\"T_f981c_row5_col4\" class=\"data row5 col4\" >0.71</td>\n",
       "      <td id=\"T_f981c_row5_col5\" class=\"data row5 col5\" >Vap. Sat.</td>\n",
       "    </tr>\n",
       "    <tr>\n",
       "      <td id=\"T_f981c_row6_col0\" class=\"data row6 col0\" >7</td>\n",
       "      <td id=\"T_f981c_row6_col1\" class=\"data row6 col1\" >383.15</td>\n",
       "      <td id=\"T_f981c_row6_col2\" class=\"data row6 col2\" >250.00</td>\n",
       "      <td id=\"T_f981c_row6_col3\" class=\"data row6 col3\" >461.49</td>\n",
       "      <td id=\"T_f981c_row6_col4\" class=\"data row6 col4\" >1.42</td>\n",
       "      <td id=\"T_f981c_row6_col5\" class=\"data row6 col5\" >Vap. Sat.</td>\n",
       "    </tr>\n",
       "    <tr>\n",
       "      <td id=\"T_f981c_row7_col0\" class=\"data row7 col0\" >8</td>\n",
       "      <td id=\"T_f981c_row7_col1\" class=\"data row7 col1\" >383.15</td>\n",
       "      <td id=\"T_f981c_row7_col2\" class=\"data row7 col2\" >250.00</td>\n",
       "      <td id=\"T_f981c_row7_col3\" class=\"data row7 col3\" >461.49</td>\n",
       "      <td id=\"T_f981c_row7_col4\" class=\"data row7 col4\" >1.42</td>\n",
       "      <td id=\"T_f981c_row7_col5\" class=\"data row7 col5\" >Vap. Sat.</td>\n",
       "    </tr>\n",
       "    <tr>\n",
       "      <td id=\"T_f981c_row8_col0\" class=\"data row8 col0\" >9</td>\n",
       "      <td id=\"T_f981c_row8_col1\" class=\"data row8 col1\" >383.15</td>\n",
       "      <td id=\"T_f981c_row8_col2\" class=\"data row8 col2\" >250.00</td>\n",
       "      <td id=\"T_f981c_row8_col3\" class=\"data row8 col3\" >461.49</td>\n",
       "      <td id=\"T_f981c_row8_col4\" class=\"data row8 col4\" >1.42</td>\n",
       "      <td id=\"T_f981c_row8_col5\" class=\"data row8 col5\" >Vap. Sat.</td>\n",
       "    </tr>\n",
       "    <tr>\n",
       "      <td id=\"T_f981c_row9_col0\" class=\"data row9 col0\" >10</td>\n",
       "      <td id=\"T_f981c_row9_col1\" class=\"data row9 col1\" >383.15</td>\n",
       "      <td id=\"T_f981c_row9_col2\" class=\"data row9 col2\" >250.00</td>\n",
       "      <td id=\"T_f981c_row9_col3\" class=\"data row9 col3\" >461.49</td>\n",
       "      <td id=\"T_f981c_row9_col4\" class=\"data row9 col4\" >1.42</td>\n",
       "      <td id=\"T_f981c_row9_col5\" class=\"data row9 col5\" >Vap. Sat.</td>\n",
       "    </tr>\n",
       "    <tr>\n",
       "      <td id=\"T_f981c_row10_col0\" class=\"data row10 col0\" >11</td>\n",
       "      <td id=\"T_f981c_row10_col1\" class=\"data row10 col1\" >278.59</td>\n",
       "      <td id=\"T_f981c_row10_col2\" class=\"data row10 col2\" >900.00</td>\n",
       "      <td id=\"T_f981c_row10_col3\" class=\"data row10 col3\" >23.76</td>\n",
       "      <td id=\"T_f981c_row10_col4\" class=\"data row10 col4\" >0.08</td>\n",
       "      <td id=\"T_f981c_row10_col5\" class=\"data row10 col5\" >Vap. Sat.</td>\n",
       "    </tr>\n",
       "    <tr>\n",
       "      <td id=\"T_f981c_row11_col0\" class=\"data row11 col0\" >12</td>\n",
       "      <td id=\"T_f981c_row11_col1\" class=\"data row11 col1\" >278.59</td>\n",
       "      <td id=\"T_f981c_row11_col2\" class=\"data row11 col2\" >900.00</td>\n",
       "      <td id=\"T_f981c_row11_col3\" class=\"data row11 col3\" >23.76</td>\n",
       "      <td id=\"T_f981c_row11_col4\" class=\"data row11 col4\" >0.08</td>\n",
       "      <td id=\"T_f981c_row11_col5\" class=\"data row11 col5\" >Vap. Sat.</td>\n",
       "    </tr>\n",
       "  </tbody>\n",
       "</table>\n"
      ],
      "text/plain": [
       "<pandas.io.formats.style.Styler at 0x1fa99d3d670>"
      ]
     },
     "metadata": {},
     "output_type": "display_data"
    }
   ],
   "source": [
    "display(df_st)"
   ]
  },
  {
   "cell_type": "markdown",
   "metadata": {},
   "source": [
    "$$ \\omega_{pump, in} = h_2 - h_1 $$\n",
    "$$ \\omega_{turb, out} = h_3 - h_4 $$\n",
    "$$ q_{in} = h_3 - h_2 $$\n",
    "$$ q_{out} = h_4 - h_1 $$\n",
    "$$\\eta_{th} = 1 - \\frac{q_{out}}{q_{in}}$$"
   ]
  },
  {
   "cell_type": "code",
   "execution_count": null,
   "metadata": {},
   "outputs": [],
   "source": []
  },
  {
   "cell_type": "markdown",
   "metadata": {},
   "source": [
    "Fazer a modelagem com condensador para que sua temperatura de condensação \n",
    "varie conforme a vazão de condensado. Mostrar essa variação."
   ]
  },
  {
   "cell_type": "markdown",
   "metadata": {},
   "source": [
    "![Condensador](img/Condensador.jpeg \"Condensador\")"
   ]
  },
  {
   "cell_type": "code",
   "execution_count": null,
   "metadata": {},
   "outputs": [],
   "source": []
  },
  {
   "cell_type": "code",
   "execution_count": null,
   "metadata": {},
   "outputs": [],
   "source": []
  },
  {
   "cell_type": "code",
   "execution_count": null,
   "metadata": {},
   "outputs": [],
   "source": []
  },
  {
   "cell_type": "markdown",
   "metadata": {},
   "source": [
    "Desenvolver a análise de primeira lei para o esquema de caldeira abaixo. \n",
    "Considerar que este sistema está inserido dentro do ciclo de potência já desenvolvido \n",
    "(Fig. 1).\n"
   ]
  },
  {
   "cell_type": "markdown",
   "metadata": {},
   "source": [
    "![Caldeira](img/Caldeira.jpeg \"Caldeira\")"
   ]
  }
 ],
 "metadata": {
  "interpreter": {
   "hash": "9f28cbbf921d7479c98a9b400630867feadfeec979835611b7a5d3ea644f7290"
  },
  "kernelspec": {
   "display_name": "Python 3.8.12 ('downgrade')",
   "language": "python",
   "name": "python3"
  },
  "language_info": {
   "codemirror_mode": {
    "name": "ipython",
    "version": 3
   },
   "file_extension": ".py",
   "mimetype": "text/x-python",
   "name": "python",
   "nbconvert_exporter": "python",
   "pygments_lexer": "ipython3",
   "version": "3.8.12"
  },
  "orig_nbformat": 4
 },
 "nbformat": 4,
 "nbformat_minor": 2
}
