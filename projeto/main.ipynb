{
 "cells": [
  {
   "cell_type": "markdown",
   "metadata": {},
   "source": [
    "Modelar o ciclo de cogeração ilustrado abaixo. Permitir que o processo varie de \n",
    "0% (desligado) até 100% (completamente ligado)."
   ]
  },
  {
   "cell_type": "markdown",
   "metadata": {},
   "source": [
    "![Ciclo](img/ciclo.jpeg \"Ciclo\")"
   ]
  },
  {
   "cell_type": "markdown",
   "metadata": {},
   "source": [
    "Importando bibliotecas necessárias"
   ]
  },
  {
   "cell_type": "code",
   "execution_count": 1,
   "metadata": {},
   "outputs": [],
   "source": [
    "from pandas import read_excel, DataFrame\n",
    "from CoolProp.CoolProp import PropsSI as prop\n",
    "from CoolProp.CoolProp import State as st\n",
    "from numpy import arange, absolute, nan\n",
    "from sympy import symbols\n",
    "from sympy.solvers.solveset import linsolve"
   ]
  },
  {
   "cell_type": "code",
   "execution_count": 2,
   "metadata": {},
   "outputs": [
    {
     "data": {
      "text/html": [
       "<div>\n",
       "<style scoped>\n",
       "    .dataframe tbody tr th:only-of-type {\n",
       "        vertical-align: middle;\n",
       "    }\n",
       "\n",
       "    .dataframe tbody tr th {\n",
       "        vertical-align: top;\n",
       "    }\n",
       "\n",
       "    .dataframe thead th {\n",
       "        text-align: right;\n",
       "    }\n",
       "</style>\n",
       "<table border=\"1\" class=\"dataframe\">\n",
       "  <thead>\n",
       "    <tr style=\"text-align: right;\">\n",
       "      <th></th>\n",
       "      <th>Temperatura [ºC]</th>\n",
       "      <th>Pressão [kPa]</th>\n",
       "      <th>Vazão [kg/s]</th>\n",
       "      <th>Título [-]</th>\n",
       "    </tr>\n",
       "  </thead>\n",
       "  <tbody>\n",
       "    <tr>\n",
       "      <th>0</th>\n",
       "      <td>485</td>\n",
       "      <td>6495</td>\n",
       "      <td>27.9</td>\n",
       "      <td>-</td>\n",
       "    </tr>\n",
       "    <tr>\n",
       "      <th>1</th>\n",
       "      <td>-</td>\n",
       "      <td>900</td>\n",
       "      <td>-</td>\n",
       "      <td>-</td>\n",
       "    </tr>\n",
       "    <tr>\n",
       "      <th>2</th>\n",
       "      <td>-</td>\n",
       "      <td>250</td>\n",
       "      <td>-</td>\n",
       "      <td>-</td>\n",
       "    </tr>\n",
       "    <tr>\n",
       "      <th>3</th>\n",
       "      <td>51</td>\n",
       "      <td>Saturação</td>\n",
       "      <td>-</td>\n",
       "      <td>-</td>\n",
       "    </tr>\n",
       "    <tr>\n",
       "      <th>4</th>\n",
       "      <td>51</td>\n",
       "      <td>Saturação</td>\n",
       "      <td>-</td>\n",
       "      <td>0.0</td>\n",
       "    </tr>\n",
       "    <tr>\n",
       "      <th>5</th>\n",
       "      <td>-</td>\n",
       "      <td>250</td>\n",
       "      <td>-</td>\n",
       "      <td>-</td>\n",
       "    </tr>\n",
       "    <tr>\n",
       "      <th>6</th>\n",
       "      <td>110</td>\n",
       "      <td>250</td>\n",
       "      <td>-</td>\n",
       "      <td>-</td>\n",
       "    </tr>\n",
       "    <tr>\n",
       "      <th>7</th>\n",
       "      <td>-</td>\n",
       "      <td>6495</td>\n",
       "      <td>27.9</td>\n",
       "      <td>-</td>\n",
       "    </tr>\n",
       "    <tr>\n",
       "      <th>8</th>\n",
       "      <td>110</td>\n",
       "      <td>250</td>\n",
       "      <td>-</td>\n",
       "      <td>-</td>\n",
       "    </tr>\n",
       "    <tr>\n",
       "      <th>9</th>\n",
       "      <td>-</td>\n",
       "      <td>900</td>\n",
       "      <td>-</td>\n",
       "      <td>-</td>\n",
       "    </tr>\n",
       "    <tr>\n",
       "      <th>10</th>\n",
       "      <td>Saturação</td>\n",
       "      <td>900</td>\n",
       "      <td>6.94</td>\n",
       "      <td>1.0</td>\n",
       "    </tr>\n",
       "    <tr>\n",
       "      <th>11</th>\n",
       "      <td>Saturação</td>\n",
       "      <td>900</td>\n",
       "      <td>6.94</td>\n",
       "      <td>0.0</td>\n",
       "    </tr>\n",
       "  </tbody>\n",
       "</table>\n",
       "</div>"
      ],
      "text/plain": [
       "   Temperatura [ºC] Pressão [kPa] Vazão [kg/s] Título [-]\n",
       "0               485          6495         27.9          -\n",
       "1                 -           900            -          -\n",
       "2                 -           250            -          -\n",
       "3                51     Saturação            -          -\n",
       "4                51     Saturação            -        0.0\n",
       "5                 -           250            -          -\n",
       "6               110           250            -          -\n",
       "7                 -          6495         27.9          -\n",
       "8               110           250            -          -\n",
       "9                 -           900            -          -\n",
       "10        Saturação           900         6.94        1.0\n",
       "11        Saturação           900         6.94        0.0"
      ]
     },
     "metadata": {},
     "output_type": "display_data"
    }
   ],
   "source": [
    "df = read_excel('data.xlsx')\n",
    "display(df.replace(nan, '-'))"
   ]
  },
  {
   "cell_type": "markdown",
   "metadata": {},
   "source": [
    "Dados fornecidos"
   ]
  },
  {
   "cell_type": "code",
   "execution_count": 3,
   "metadata": {},
   "outputs": [],
   "source": [
    "fluido = 'Water'\n",
    "n_turb, n_pump = 0.85, 0.85\n",
    "F_processo = 1"
   ]
  },
  {
   "cell_type": "markdown",
   "metadata": {},
   "source": [
    "Inserindo temperatura de saturação na tabela e convertendo para K"
   ]
  },
  {
   "cell_type": "code",
   "execution_count": 4,
   "metadata": {},
   "outputs": [],
   "source": [
    "T, c = [], 0\n",
    "\n",
    "for i in df['Temperatura [ºC]']:\n",
    "    c = c + 1\n",
    "    try:\n",
    "        if i == 'Saturação':\n",
    "            T.insert(c-1, round(prop('T', 'P', df['Pressão [kPa]'][c-1], 'Q', 0, fluido), 2) )\n",
    "        else:\n",
    "            T.insert(c-1, i + 273.15)\n",
    "    except ValueError or NameError:\n",
    "        print(f'Sem informações de pressão no estado {c}')"
   ]
  },
  {
   "cell_type": "markdown",
   "metadata": {},
   "source": [
    "Inserindo pressão de saturação na tabela "
   ]
  },
  {
   "cell_type": "code",
   "execution_count": 5,
   "metadata": {},
   "outputs": [],
   "source": [
    "P, c = [], 0\n",
    "for i in df['Pressão [kPa]']:\n",
    "    c = c + 1\n",
    "    try:\n",
    "        if i == 'Saturação':\n",
    "            P.insert(c-1, round(prop('P', 'T', T[c-1], 'Q', 0, fluido)/10**3,2) )\n",
    "        else:\n",
    "            P.insert(c-1, i)\n",
    "    except ValueError or NameError:\n",
    "        print(f'Sem informações de temperatura no estado {c}')"
   ]
  },
  {
   "cell_type": "markdown",
   "metadata": {},
   "source": [
    "Definindo valores de vazão e titulo a partir da tabela de dados"
   ]
  },
  {
   "cell_type": "code",
   "execution_count": 6,
   "metadata": {},
   "outputs": [],
   "source": [
    "vazao = df['Vazão [kg/s]']\n",
    "x = df['Título [-]']"
   ]
  },
  {
   "cell_type": "code",
   "execution_count": 7,
   "metadata": {},
   "outputs": [
    {
     "name": "stdout",
     "output_type": "stream",
     "text": [
      "485.0\n",
      "nan\n",
      "nan\n",
      "51.0\n",
      "51.0\n",
      "nan\n",
      "110.0\n",
      "nan\n",
      "110.0\n",
      "nan\n",
      "5.439999999999998\n",
      "5.439999999999998\n"
     ]
    }
   ],
   "source": [
    "for c in T:\n",
    "    print(c-273.15)"
   ]
  },
  {
   "cell_type": "markdown",
   "metadata": {},
   "source": [
    "## Definindo estados ##"
   ]
  },
  {
   "cell_type": "markdown",
   "metadata": {},
   "source": [
    "$$ st: Estado $$"
   ]
  },
  {
   "cell_type": "markdown",
   "metadata": {},
   "source": [
    "Definindo estados em função da pressão e temperatura com dados fornecidos"
   ]
  },
  {
   "cell_type": "markdown",
   "metadata": {},
   "source": [
    "$$st: st(P, T)$$"
   ]
  },
  {
   "cell_type": "code",
   "execution_count": 8,
   "metadata": {},
   "outputs": [],
   "source": [
    "st1 = st(fluido, {'P': P[0], 'T': T[0] })\n",
    "st7 = st(fluido, {'P': P[6], 'T': T[6] })\n",
    "st9 = st(fluido, {'P': P[8], 'T': T[8]})\n",
    "st11 = st(fluido, {'P': P[10], 'T': T[10]})"
   ]
  },
  {
   "cell_type": "markdown",
   "metadata": {},
   "source": [
    "Definindo estados em função da pressão e titulo com dados fornecidos"
   ]
  },
  {
   "cell_type": "markdown",
   "metadata": {},
   "source": [
    "$$st: st(P, x)$$"
   ]
  },
  {
   "cell_type": "code",
   "execution_count": 9,
   "metadata": {},
   "outputs": [],
   "source": [
    "st5 = st(fluido, {'P': P[4], 'Q': x[4]})\n",
    "st12 = st(fluido, {'P': P[11], 'Q': x[11]}) ########"
   ]
  },
  {
   "cell_type": "markdown",
   "metadata": {},
   "source": [
    "Definindo estados a partir da equação de eficiência isentrópica para turbinas"
   ]
  },
  {
   "cell_type": "markdown",
   "metadata": {},
   "source": [
    "$$ \\eta_{turb} = \\frac{h_{n-1} - h_{n}}{h_{n-1} - h_{ns}} $$"
   ]
  },
  {
   "cell_type": "markdown",
   "metadata": {},
   "source": [
    "Estado 2"
   ]
  },
  {
   "cell_type": "markdown",
   "metadata": {},
   "source": [
    "$$ st_{2s}: st_{2s}(P_{2}, S_{1}) $$\n",
    "$$ h_{2} = h_{1} - \\eta_{turb}(h_{1} - h_{2s}) $$\n",
    "$$ st_{2}: st_{2}(P_{2}, h_{2}) $$"
   ]
  },
  {
   "cell_type": "code",
   "execution_count": 10,
   "metadata": {},
   "outputs": [],
   "source": [
    "st2s = st(fluido, {'P': P[1], 'S': st1.s})\n",
    "h2 = st1.h - n_turb*(st1.h - st2s.h)\n",
    "st2 = st(fluido, {'P': P[1], 'H': h2})"
   ]
  },
  {
   "cell_type": "markdown",
   "metadata": {},
   "source": [
    "Estado 3"
   ]
  },
  {
   "cell_type": "markdown",
   "metadata": {},
   "source": [
    "$$ st_{3s}: st_{3s}(P_{3}, S_{2}) $$\n",
    "$$ h_{3} = h_{2} - \\eta_{turb}(h_{2} - h_{3s}) $$\n",
    "$$ st_{3}: st_{2}(P_{3}, h_{3}) $$"
   ]
  },
  {
   "cell_type": "code",
   "execution_count": 11,
   "metadata": {},
   "outputs": [],
   "source": [
    "st3s = st(fluido, {'P': P[2], 'S': st2.s })\n",
    "h3 = st2.h - n_turb*(st2.h - st3s.h)\n",
    "st3 = st(fluido, {'P': P[2], 'H': h3 })"
   ]
  },
  {
   "cell_type": "markdown",
   "metadata": {},
   "source": [
    "Estado 4"
   ]
  },
  {
   "cell_type": "markdown",
   "metadata": {},
   "source": [
    "$$ st_{4s}: st_{4s}(P_{4}, S_{3}) $$\n",
    "$$ h_{4} = h_{3} - \\eta_{turb}(h_{3} - h_{4s}) $$\n",
    "$$ st_{4}: st_{4}(P_{4}, h_{4}) $$"
   ]
  },
  {
   "cell_type": "code",
   "execution_count": 12,
   "metadata": {},
   "outputs": [],
   "source": [
    "st4s = st(fluido, {'P': P[3], 'S': st3.s })\n",
    "h4 = st3.h - n_turb*(st3.h - st4s.h)\n",
    "st4 = st(fluido, {'P': P[3], 'H': h4 })"
   ]
  },
  {
   "cell_type": "markdown",
   "metadata": {},
   "source": [
    "Definindo estados a partir da equação de eficiência isentrópica para bombas"
   ]
  },
  {
   "cell_type": "markdown",
   "metadata": {},
   "source": [
    "$$ \\eta_{pump} = \\frac{h_{ns} - h_{n-1}}{h_{n} - h_{n-1}} $$"
   ]
  },
  {
   "cell_type": "markdown",
   "metadata": {},
   "source": [
    "Estado 6"
   ]
  },
  {
   "cell_type": "markdown",
   "metadata": {},
   "source": [
    "$$ st_{6s}: st_{6s}(P_{6}, S_{5}) $$\n",
    "$$ h_{6} = h_{5} + \\frac{h_{6s} - h_{5}}{\\eta_{pump}} $$\n",
    "$$ st_{6}: st_{6}(P_{6}, h_{6}) $$"
   ]
  },
  {
   "cell_type": "code",
   "execution_count": 13,
   "metadata": {},
   "outputs": [],
   "source": [
    "st6s = st(fluido, {'P': P[5], 'S': st5.s })  \n",
    "h6 = st5.h + (st6s.h - st5.h)/n_pump\n",
    "st6 = st(fluido, {'P': P[5], 'H': h6 })"
   ]
  },
  {
   "cell_type": "markdown",
   "metadata": {},
   "source": [
    "Estado 8"
   ]
  },
  {
   "cell_type": "markdown",
   "metadata": {},
   "source": [
    "$$ st_{8s}: st_{8s}(P_{8}, S_{7}) $$\n",
    "$$ h_{8} = h_{7} + \\frac{h_{8s} - h_{7}}{\\eta_{pump}} $$\n",
    "$$ st_{8}: st_{8}(P_{8}, h_{8}) $$"
   ]
  },
  {
   "cell_type": "code",
   "execution_count": 14,
   "metadata": {},
   "outputs": [],
   "source": [
    "st8s = st(fluido, {'P': P[7], 'S': st7.s }) \n",
    "h8 = st7.h + (st8s.h - st7.h)/n_pump\n",
    "st8 = st(fluido, {'P': P[7], 'H': h8 })"
   ]
  },
  {
   "cell_type": "markdown",
   "metadata": {},
   "source": [
    "Estado 10"
   ]
  },
  {
   "cell_type": "markdown",
   "metadata": {},
   "source": [
    "$$ st_{10s}: st_{10s}(P_{10}, S_{9}) $$\n",
    "$$ h_{10} = h_{9} + \\frac{h_{10s} - h_{9}}{\\eta_{pump}} $$\n",
    "$$ st_{10}: st_{10}(P_{10}, h_{10}) $$"
   ]
  },
  {
   "cell_type": "code",
   "execution_count": 15,
   "metadata": {},
   "outputs": [],
   "source": [
    "st10s = st(fluido, {'P': P[9], 'S': st9.s}) \n",
    "h10 = st9.h + (st10s.h - st9.h)/n_pump\n",
    "st10 = st(fluido, {'P': P[9], 'H': h10 })"
   ]
  },
  {
   "cell_type": "markdown",
   "metadata": {},
   "source": [
    "## Obtendo valores de temperatura, pressão, entalpia, entropia e titulo para todos os estados ##"
   ]
  },
  {
   "cell_type": "code",
   "execution_count": 16,
   "metadata": {},
   "outputs": [],
   "source": [
    "estds = st1, st2, st3, st4, st5, st6, st7, st8, st9, st10, st11, st12\n",
    "\n",
    "temperatura, pressao, entalpia, entropia, titulo, estados = [], [], [], [], [], arange(1, len(estds)+1, 1)\n",
    "\n",
    "for i in estds: \n",
    "    temperatura.append(i.T - 273.15)\n",
    "    pressao.append(i.p)\n",
    "    entalpia.append(i.h)\n",
    "    entropia.append(i.s)\n",
    "    if absolute(round(i.Q, 4)) == 1:\n",
    "        titulo.append('Vap. Sat.')\n",
    "    elif i.Q == 0:\n",
    "        titulo.append('Liq. Sat.')\n",
    "    else:\n",
    "        titulo.append(i.Q)"
   ]
  },
  {
   "cell_type": "markdown",
   "metadata": {},
   "source": [
    "## Resolvendo o sistema de equação das vazões ##"
   ]
  },
  {
   "cell_type": "markdown",
   "metadata": {},
   "source": [
    "Definindo as variaveis como simbólicas"
   ]
  },
  {
   "cell_type": "code",
   "execution_count": 17,
   "metadata": {},
   "outputs": [],
   "source": [
    "m1, m2, m3, m4, m5, m6, m7, m8, m9, m10, m11, m12 = symbols('m1 m2 m3 m4 m5 m6 m7 m8 m9 m10 m11 m12')\n",
    "massas = m1, m2, m3, m4, m5, m6, m7, m8, m9, m10, m11, m12"
   ]
  },
  {
   "cell_type": "markdown",
   "metadata": {},
   "source": [
    "$$ \\frac{dm_{v.c.}}{dt} = \\sum_{n=1}^{i} \\dot{m}_{in, n} - \\sum_{m=1}^{j} \\dot{m}_{out, m} = 0 $$\n",
    "$$ \\frac{dE_{v.c.}}{dt} = \\sum_{n=1}^{i} \\dot{m}_{in, n}h_{in, n} - \\sum_{m=1}^{j} \\dot{m}_{out, m}h_{out, m} = 0 $$"
   ]
  },
  {
   "cell_type": "markdown",
   "metadata": {},
   "source": [
    "$$ m_{1}, m_{2}, m_{3}, m_{4}, m_{5}, m_{6}, m_{7}, m_{8}, m_{9}, m_{10}, m_{11}, m_{12} = \\left\\{\n",
    "\\begin{array}{lr}\n",
    "m_{1} - 27,9 = 0\\\\\n",
    "m_{8} - 27,9 = 0\\\\\n",
    "m_{2} + m_{3} + m_{4} - m_{1} = 0\\\\\n",
    "m_{12} + m_{3} + m_{6} - m_{7} = 0\\\\\n",
    "m_{2} + m_{10} - m_{11} = 0\\\\\n",
    "m_{2}h_{2} + m_{10}h_{10} - m_{11}h_{11} = 0\\\\\n",
    "m_{12}h_{12} + m_{3}h_{3} + m_{6}h_{6} - m_{7}h_{7} = 0\\\\\n",
    "m_{4} - m_{5} = 0\\\\\n",
    "m_{5} - m_{6} = 0\\\\\n",
    "m_{11} - m_{12} = 0\\\\\n",
    "m_{12} - 6,94F_{processo} = 0\\\\\n",
    "m_{9} - m_{10} = 0\n",
    "\\end{array}\n",
    "\\right. $$"
   ]
  },
  {
   "cell_type": "code",
   "execution_count": 18,
   "metadata": {},
   "outputs": [],
   "source": [
    "eqs_massas = [ m1 - vazao[0], \n",
    "               m8 - vazao[7],\n",
    "               m2 + m3 + m4 - m1,\n",
    "               m12 + m3 + m6 - m7,\n",
    "               m2 + m10 - m11,\n",
    "               m2*st2.h + m10*st10.h - m11*st11.h,\n",
    "               m12*st12.h + m3*st3.h + m6*st6.h - m7*st7.h,\n",
    "               m4 - m5,\n",
    "               m5 - m6,\n",
    "               m11 - m12,\n",
    "               m12 - 6.94*F_processo,\n",
    "               m9 - m10 ]"
   ]
  },
  {
   "cell_type": "markdown",
   "metadata": {},
   "source": [
    "Criando lista de vazões e arredondando para 2 casas decimais"
   ]
  },
  {
   "cell_type": "code",
   "execution_count": 19,
   "metadata": {},
   "outputs": [],
   "source": [
    "m = [round(num, 2) for num in list(linsolve(eqs_massas, massas))[0]]"
   ]
  },
  {
   "cell_type": "markdown",
   "metadata": {},
   "source": [
    "Definindo dicionário de dados dos estados e criando tabela"
   ]
  },
  {
   "cell_type": "code",
   "execution_count": 20,
   "metadata": {},
   "outputs": [],
   "source": [
    "data_st = {\n",
    "    'Estado': estados,\n",
    "    'Temperatura [ºC]': temperatura,\n",
    "    'Pressão [kPa]': pressao,\n",
    "    'Entalpia [kJ/kg]': entalpia,\n",
    "    'Entropia [kJ/kg/K]': entropia,\n",
    "    'Vazão [kg/s]': m,\n",
    "    'Titulo [-]': titulo\n",
    "}\n",
    "\n",
    "df_st = DataFrame(data_st).style.hide(axis='index').format('{:.2f}', subset=['Temperatura [ºC]', 'Pressão [kPa]', \n",
    "                                                                             'Entalpia [kJ/kg]', 'Entropia [kJ/kg/K]', \n",
    "                                                                             'Vazão [kg/s]'])"
   ]
  },
  {
   "cell_type": "markdown",
   "metadata": {},
   "source": [
    "Definindo formato e estilo da tabela"
   ]
  },
  {
   "cell_type": "code",
   "execution_count": 21,
   "metadata": {},
   "outputs": [],
   "source": [
    "def styler(col):\n",
    "    if col.name != 'Titulo [-]':\n",
    "        return [''] * len(col)\n",
    "\n",
    "    bg_color = col.map({\n",
    "        'Vap. Sat.': '#8c0a72',\n",
    "        'Liq. Sat.': '#4523a1',\n",
    "    }).fillna('') \n",
    "    return 'background-color:' + bg_color"
   ]
  },
  {
   "cell_type": "markdown",
   "metadata": {},
   "source": [
    "## Resultados ##"
   ]
  },
  {
   "cell_type": "code",
   "execution_count": 22,
   "metadata": {},
   "outputs": [
    {
     "data": {
      "text/html": [
       "<style type=\"text/css\">\n",
       "#T_0c063_row0_col1, #T_0c063_row0_col2, #T_0c063_row0_col3, #T_0c063_row3_col4, #T_0c063_row6_col5, #T_0c063_row7_col2 {\n",
       "  width: 10em;\n",
       "  background: linear-gradient(90deg, #4523a1 100.0%, transparent 100.0%);\n",
       "}\n",
       "#T_0c063_row0_col4 {\n",
       "  width: 10em;\n",
       "  background: linear-gradient(90deg, #4523a1 93.6%, transparent 93.6%);\n",
       "}\n",
       "#T_0c063_row0_col5, #T_0c063_row7_col5 {\n",
       "  width: 10em;\n",
       "  background: linear-gradient(90deg, #4523a1 77.3%, transparent 77.3%);\n",
       "}\n",
       "#T_0c063_row0_col6, #T_0c063_row1_col6, #T_0c063_row5_col6, #T_0c063_row6_col6, #T_0c063_row7_col6, #T_0c063_row8_col6, #T_0c063_row9_col6, #T_0c063_row10_col6 {\n",
       "  background-color: #8c0a72;\n",
       "}\n",
       "#T_0c063_row1_col1 {\n",
       "  width: 10em;\n",
       "  background: linear-gradient(90deg, #4523a1 50.2%, transparent 50.2%);\n",
       "}\n",
       "#T_0c063_row1_col2, #T_0c063_row7_col3, #T_0c063_row9_col2, #T_0c063_row10_col2, #T_0c063_row11_col2 {\n",
       "  width: 10em;\n",
       "  background: linear-gradient(90deg, #4523a1 13.9%, transparent 13.9%);\n",
       "}\n",
       "#T_0c063_row1_col3 {\n",
       "  width: 10em;\n",
       "  background: linear-gradient(90deg, #4523a1 86.7%, transparent 86.7%);\n",
       "}\n",
       "#T_0c063_row1_col4 {\n",
       "  width: 10em;\n",
       "  background: linear-gradient(90deg, #4523a1 95.8%, transparent 95.8%);\n",
       "}\n",
       "#T_0c063_row1_col5 {\n",
       "  width: 10em;\n",
       "}\n",
       "#T_0c063_row2_col1 {\n",
       "  width: 10em;\n",
       "  background: linear-gradient(90deg, #4523a1 26.3%, transparent 26.3%);\n",
       "}\n",
       "#T_0c063_row2_col2, #T_0c063_row5_col2, #T_0c063_row6_col2, #T_0c063_row8_col2 {\n",
       "  width: 10em;\n",
       "  background: linear-gradient(90deg, #4523a1 3.8%, transparent 3.8%);\n",
       "}\n",
       "#T_0c063_row2_col3 {\n",
       "  width: 10em;\n",
       "  background: linear-gradient(90deg, #4523a1 80.3%, transparent 80.3%);\n",
       "}\n",
       "#T_0c063_row2_col4 {\n",
       "  width: 10em;\n",
       "  background: linear-gradient(90deg, #4523a1 97.1%, transparent 97.1%);\n",
       "}\n",
       "#T_0c063_row2_col5 {\n",
       "  width: 10em;\n",
       "  background: linear-gradient(90deg, #4523a1 5.8%, transparent 5.8%);\n",
       "}\n",
       "#T_0c063_row2_col6, #T_0c063_row3_col6 {\n",
       "  background-color: ;\n",
       "}\n",
       "#T_0c063_row3_col1, #T_0c063_row4_col1, #T_0c063_row5_col1 {\n",
       "  width: 10em;\n",
       "  background: linear-gradient(90deg, #4523a1 10.5%, transparent 10.5%);\n",
       "}\n",
       "#T_0c063_row3_col2, #T_0c063_row4_col2 {\n",
       "  width: 10em;\n",
       "  background: linear-gradient(90deg, #4523a1 0.2%, transparent 0.2%);\n",
       "}\n",
       "#T_0c063_row3_col3 {\n",
       "  width: 10em;\n",
       "  background: linear-gradient(90deg, #4523a1 69.0%, transparent 69.0%);\n",
       "}\n",
       "#T_0c063_row3_col5, #T_0c063_row4_col5, #T_0c063_row5_col5 {\n",
       "  width: 10em;\n",
       "  background: linear-gradient(90deg, #4523a1 74.9%, transparent 74.9%);\n",
       "}\n",
       "#T_0c063_row4_col3, #T_0c063_row5_col3 {\n",
       "  width: 10em;\n",
       "  background: linear-gradient(90deg, #4523a1 6.3%, transparent 6.3%);\n",
       "}\n",
       "#T_0c063_row4_col4, #T_0c063_row5_col4 {\n",
       "  width: 10em;\n",
       "  background: linear-gradient(90deg, #4523a1 9.9%, transparent 9.9%);\n",
       "}\n",
       "#T_0c063_row4_col6, #T_0c063_row11_col6 {\n",
       "  background-color: #4523a1;\n",
       "}\n",
       "#T_0c063_row6_col1, #T_0c063_row8_col1, #T_0c063_row8_col5, #T_0c063_row9_col1, #T_0c063_row9_col5 {\n",
       "  width: 10em;\n",
       "  background: linear-gradient(90deg, #4523a1 22.7%, transparent 22.7%);\n",
       "}\n",
       "#T_0c063_row6_col3, #T_0c063_row8_col3 {\n",
       "  width: 10em;\n",
       "  background: linear-gradient(90deg, #4523a1 13.6%, transparent 13.6%);\n",
       "}\n",
       "#T_0c063_row6_col4, #T_0c063_row7_col4, #T_0c063_row8_col4, #T_0c063_row9_col4 {\n",
       "  width: 10em;\n",
       "  background: linear-gradient(90deg, #4523a1 19.6%, transparent 19.6%);\n",
       "}\n",
       "#T_0c063_row7_col1 {\n",
       "  width: 10em;\n",
       "  background: linear-gradient(90deg, #4523a1 22.8%, transparent 22.8%);\n",
       "}\n",
       "#T_0c063_row9_col3 {\n",
       "  width: 10em;\n",
       "  background: linear-gradient(90deg, #4523a1 13.7%, transparent 13.7%);\n",
       "}\n",
       "#T_0c063_row10_col1, #T_0c063_row10_col4 {\n",
       "  width: 10em;\n",
       "  background: linear-gradient(90deg, #4523a1 1.1%, transparent 1.1%);\n",
       "}\n",
       "#T_0c063_row10_col3 {\n",
       "  width: 10em;\n",
       "  background: linear-gradient(90deg, #4523a1 0.7%, transparent 0.7%);\n",
       "}\n",
       "#T_0c063_row10_col5, #T_0c063_row11_col5 {\n",
       "  width: 10em;\n",
       "  background: linear-gradient(90deg, #4523a1 19.2%, transparent 19.2%);\n",
       "}\n",
       "#T_0c063_row11_col1 {\n",
       "  width: 10em;\n",
       "  background: linear-gradient(90deg, #4523a1 36.2%, transparent 36.2%);\n",
       "}\n",
       "#T_0c063_row11_col3 {\n",
       "  width: 10em;\n",
       "  background: linear-gradient(90deg, #4523a1 22.0%, transparent 22.0%);\n",
       "}\n",
       "#T_0c063_row11_col4 {\n",
       "  width: 10em;\n",
       "  background: linear-gradient(90deg, #4523a1 28.9%, transparent 28.9%);\n",
       "}\n",
       "</style>\n",
       "<table id=\"T_0c063\">\n",
       "  <thead>\n",
       "    <tr>\n",
       "      <th id=\"T_0c063_level0_col0\" class=\"col_heading level0 col0\" >Estado</th>\n",
       "      <th id=\"T_0c063_level0_col1\" class=\"col_heading level0 col1\" >Temperatura [ºC]</th>\n",
       "      <th id=\"T_0c063_level0_col2\" class=\"col_heading level0 col2\" >Pressão [kPa]</th>\n",
       "      <th id=\"T_0c063_level0_col3\" class=\"col_heading level0 col3\" >Entalpia [kJ/kg]</th>\n",
       "      <th id=\"T_0c063_level0_col4\" class=\"col_heading level0 col4\" >Entropia [kJ/kg/K]</th>\n",
       "      <th id=\"T_0c063_level0_col5\" class=\"col_heading level0 col5\" >Vazão [kg/s]</th>\n",
       "      <th id=\"T_0c063_level0_col6\" class=\"col_heading level0 col6\" >Titulo [-]</th>\n",
       "    </tr>\n",
       "  </thead>\n",
       "  <tbody>\n",
       "    <tr>\n",
       "      <td id=\"T_0c063_row0_col0\" class=\"data row0 col0\" >1</td>\n",
       "      <td id=\"T_0c063_row0_col1\" class=\"data row0 col1\" >485.00</td>\n",
       "      <td id=\"T_0c063_row0_col2\" class=\"data row0 col2\" >6495.00</td>\n",
       "      <td id=\"T_0c063_row0_col3\" class=\"data row0 col3\" >3381.20</td>\n",
       "      <td id=\"T_0c063_row0_col4\" class=\"data row0 col4\" >6.79</td>\n",
       "      <td id=\"T_0c063_row0_col5\" class=\"data row0 col5\" >27.90</td>\n",
       "      <td id=\"T_0c063_row0_col6\" class=\"data row0 col6\" >Vap. Sat.</td>\n",
       "    </tr>\n",
       "    <tr>\n",
       "      <td id=\"T_0c063_row1_col0\" class=\"data row1 col0\" >2</td>\n",
       "      <td id=\"T_0c063_row1_col1\" class=\"data row1 col1\" >243.27</td>\n",
       "      <td id=\"T_0c063_row1_col2\" class=\"data row1 col2\" >900.00</td>\n",
       "      <td id=\"T_0c063_row1_col3\" class=\"data row1 col3\" >2932.08</td>\n",
       "      <td id=\"T_0c063_row1_col4\" class=\"data row1 col4\" >6.95</td>\n",
       "      <td id=\"T_0c063_row1_col5\" class=\"data row1 col5\" >-1.23</td>\n",
       "      <td id=\"T_0c063_row1_col6\" class=\"data row1 col6\" >Vap. Sat.</td>\n",
       "    </tr>\n",
       "    <tr>\n",
       "      <td id=\"T_0c063_row2_col0\" class=\"data row2 col0\" >3</td>\n",
       "      <td id=\"T_0c063_row2_col1\" class=\"data row2 col1\" >127.41</td>\n",
       "      <td id=\"T_0c063_row2_col2\" class=\"data row2 col2\" >250.00</td>\n",
       "      <td id=\"T_0c063_row2_col3\" class=\"data row2 col3\" >2714.68</td>\n",
       "      <td id=\"T_0c063_row2_col4\" class=\"data row2 col4\" >7.05</td>\n",
       "      <td id=\"T_0c063_row2_col5\" class=\"data row2 col5\" >2.11</td>\n",
       "      <td id=\"T_0c063_row2_col6\" class=\"data row2 col6\" >0.9992</td>\n",
       "    </tr>\n",
       "    <tr>\n",
       "      <td id=\"T_0c063_row3_col0\" class=\"data row3 col0\" >4</td>\n",
       "      <td id=\"T_0c063_row3_col1\" class=\"data row3 col1\" >51.00</td>\n",
       "      <td id=\"T_0c063_row3_col2\" class=\"data row3 col2\" >12.98</td>\n",
       "      <td id=\"T_0c063_row3_col3\" class=\"data row3 col3\" >2333.14</td>\n",
       "      <td id=\"T_0c063_row3_col4\" class=\"data row3 col4\" >7.26</td>\n",
       "      <td id=\"T_0c063_row3_col5\" class=\"data row3 col5\" >27.03</td>\n",
       "      <td id=\"T_0c063_row3_col6\" class=\"data row3 col6\" >0.8908</td>\n",
       "    </tr>\n",
       "    <tr>\n",
       "      <td id=\"T_0c063_row4_col0\" class=\"data row4 col0\" >5</td>\n",
       "      <td id=\"T_0c063_row4_col1\" class=\"data row4 col1\" >51.00</td>\n",
       "      <td id=\"T_0c063_row4_col2\" class=\"data row4 col2\" >12.98</td>\n",
       "      <td id=\"T_0c063_row4_col3\" class=\"data row4 col3\" >213.54</td>\n",
       "      <td id=\"T_0c063_row4_col4\" class=\"data row4 col4\" >0.72</td>\n",
       "      <td id=\"T_0c063_row4_col5\" class=\"data row4 col5\" >27.03</td>\n",
       "      <td id=\"T_0c063_row4_col6\" class=\"data row4 col6\" >Liq. Sat.</td>\n",
       "    </tr>\n",
       "    <tr>\n",
       "      <td id=\"T_0c063_row5_col0\" class=\"data row5 col0\" >6</td>\n",
       "      <td id=\"T_0c063_row5_col1\" class=\"data row5 col1\" >51.02</td>\n",
       "      <td id=\"T_0c063_row5_col2\" class=\"data row5 col2\" >250.00</td>\n",
       "      <td id=\"T_0c063_row5_col3\" class=\"data row5 col3\" >213.82</td>\n",
       "      <td id=\"T_0c063_row5_col4\" class=\"data row5 col4\" >0.72</td>\n",
       "      <td id=\"T_0c063_row5_col5\" class=\"data row5 col5\" >27.03</td>\n",
       "      <td id=\"T_0c063_row5_col6\" class=\"data row5 col6\" >Vap. Sat.</td>\n",
       "    </tr>\n",
       "    <tr>\n",
       "      <td id=\"T_0c063_row6_col0\" class=\"data row6 col0\" >7</td>\n",
       "      <td id=\"T_0c063_row6_col1\" class=\"data row6 col1\" >110.00</td>\n",
       "      <td id=\"T_0c063_row6_col2\" class=\"data row6 col2\" >250.00</td>\n",
       "      <td id=\"T_0c063_row6_col3\" class=\"data row6 col3\" >461.49</td>\n",
       "      <td id=\"T_0c063_row6_col4\" class=\"data row6 col4\" >1.42</td>\n",
       "      <td id=\"T_0c063_row6_col5\" class=\"data row6 col5\" >36.07</td>\n",
       "      <td id=\"T_0c063_row6_col6\" class=\"data row6 col6\" >Vap. Sat.</td>\n",
       "    </tr>\n",
       "    <tr>\n",
       "      <td id=\"T_0c063_row7_col0\" class=\"data row7 col0\" >8</td>\n",
       "      <td id=\"T_0c063_row7_col1\" class=\"data row7 col1\" >110.75</td>\n",
       "      <td id=\"T_0c063_row7_col2\" class=\"data row7 col2\" >6495.00</td>\n",
       "      <td id=\"T_0c063_row7_col3\" class=\"data row7 col3\" >469.21</td>\n",
       "      <td id=\"T_0c063_row7_col4\" class=\"data row7 col4\" >1.42</td>\n",
       "      <td id=\"T_0c063_row7_col5\" class=\"data row7 col5\" >27.90</td>\n",
       "      <td id=\"T_0c063_row7_col6\" class=\"data row7 col6\" >Vap. Sat.</td>\n",
       "    </tr>\n",
       "    <tr>\n",
       "      <td id=\"T_0c063_row8_col0\" class=\"data row8 col0\" >9</td>\n",
       "      <td id=\"T_0c063_row8_col1\" class=\"data row8 col1\" >110.00</td>\n",
       "      <td id=\"T_0c063_row8_col2\" class=\"data row8 col2\" >250.00</td>\n",
       "      <td id=\"T_0c063_row8_col3\" class=\"data row8 col3\" >461.49</td>\n",
       "      <td id=\"T_0c063_row8_col4\" class=\"data row8 col4\" >1.42</td>\n",
       "      <td id=\"T_0c063_row8_col5\" class=\"data row8 col5\" >8.17</td>\n",
       "      <td id=\"T_0c063_row8_col6\" class=\"data row8 col6\" >Vap. Sat.</td>\n",
       "    </tr>\n",
       "    <tr>\n",
       "      <td id=\"T_0c063_row9_col0\" class=\"data row9 col0\" >10</td>\n",
       "      <td id=\"T_0c063_row9_col1\" class=\"data row9 col1\" >110.08</td>\n",
       "      <td id=\"T_0c063_row9_col2\" class=\"data row9 col2\" >900.00</td>\n",
       "      <td id=\"T_0c063_row9_col3\" class=\"data row9 col3\" >462.30</td>\n",
       "      <td id=\"T_0c063_row9_col4\" class=\"data row9 col4\" >1.42</td>\n",
       "      <td id=\"T_0c063_row9_col5\" class=\"data row9 col5\" >8.17</td>\n",
       "      <td id=\"T_0c063_row9_col6\" class=\"data row9 col6\" >Vap. Sat.</td>\n",
       "    </tr>\n",
       "    <tr>\n",
       "      <td id=\"T_0c063_row10_col0\" class=\"data row10 col0\" >11</td>\n",
       "      <td id=\"T_0c063_row10_col1\" class=\"data row10 col1\" >5.44</td>\n",
       "      <td id=\"T_0c063_row10_col2\" class=\"data row10 col2\" >900.00</td>\n",
       "      <td id=\"T_0c063_row10_col3\" class=\"data row10 col3\" >23.76</td>\n",
       "      <td id=\"T_0c063_row10_col4\" class=\"data row10 col4\" >0.08</td>\n",
       "      <td id=\"T_0c063_row10_col5\" class=\"data row10 col5\" >6.94</td>\n",
       "      <td id=\"T_0c063_row10_col6\" class=\"data row10 col6\" >Vap. Sat.</td>\n",
       "    </tr>\n",
       "    <tr>\n",
       "      <td id=\"T_0c063_row11_col0\" class=\"data row11 col0\" >12</td>\n",
       "      <td id=\"T_0c063_row11_col1\" class=\"data row11 col1\" >175.35</td>\n",
       "      <td id=\"T_0c063_row11_col2\" class=\"data row11 col2\" >900.00</td>\n",
       "      <td id=\"T_0c063_row11_col3\" class=\"data row11 col3\" >742.56</td>\n",
       "      <td id=\"T_0c063_row11_col4\" class=\"data row11 col4\" >2.09</td>\n",
       "      <td id=\"T_0c063_row11_col5\" class=\"data row11 col5\" >6.94</td>\n",
       "      <td id=\"T_0c063_row11_col6\" class=\"data row11 col6\" >Liq. Sat.</td>\n",
       "    </tr>\n",
       "  </tbody>\n",
       "</table>\n"
      ],
      "text/plain": [
       "<pandas.io.formats.style.Styler at 0x1b9103c3a30>"
      ]
     },
     "metadata": {},
     "output_type": "display_data"
    }
   ],
   "source": [
    "display(df_st.bar(color='#4523a1', vmin=0, \n",
    "                 subset=['Temperatura [ºC]', 'Pressão [kPa]', 'Entalpia [kJ/kg]',\n",
    "                 'Entropia [kJ/kg/K]', 'Vazão [kg/s]']).apply(styler).format(precision=4, subset=['Titulo [-]']))\n",
    "\n",
    "                "
   ]
  },
  {
   "cell_type": "markdown",
   "metadata": {},
   "source": [
    "## Trabalho, calor e eficiência ##"
   ]
  },
  {
   "cell_type": "markdown",
   "metadata": {},
   "source": [
    "$$ \\omega_{pump, in} = (h_{6} - h_{5}) + (h_{8} - h_{7}) + (h_{10} - h_{9})  $$\n",
    "$$ \\omega_{turb, out} = (h_{2} + h_{3} + h_{4}) - h_{1} $$\n",
    "$$ q_{in} = h_{1} - h_{8} $$\n",
    "$$ q_{out} = h_{4} - h_{5} $$\n",
    "$$\\eta_{th} = 1 - \\frac{q_{out}}{q_{in}}$$"
   ]
  },
  {
   "cell_type": "code",
   "execution_count": 23,
   "metadata": {},
   "outputs": [],
   "source": [
    "w_pump_in = (st6.h - st5.h) + (st8.h - st7.h) + (st10.h - st9.h)\n",
    "w_turb_out = (st2.h + st3.h  + st4.h) - st1.h \n",
    "q_in = st1.h - st8.h\n",
    "q_out = st4.h - st5.h\n",
    "n_th = 100*( 1 - (q_out/q_in))"
   ]
  },
  {
   "cell_type": "markdown",
   "metadata": {},
   "source": [
    "$$ W_{turb} = m_{1}h_{1} - (m_{2}h_{2} + m_{3}h_{3} + m_{4}h_{4})  $$"
   ]
  },
  {
   "cell_type": "code",
   "execution_count": 24,
   "metadata": {},
   "outputs": [],
   "source": [
    "W_turb = round(m[0]*st1.h - (m[1]*st2.h + m[2]*st3.h + m[3]*st4.h)  , 2)"
   ]
  },
  {
   "cell_type": "markdown",
   "metadata": {},
   "source": [
    "$$ W_{pump_{1}} = m_{5}(h_{6} - h_{5}) $$\n",
    "$$ W_{pump_{2}} = m_{7}(h_{8} - h_{7}) $$\n",
    "$$ W_{pump_{3}} = m_{9}(h_{10} - h_{9}) $$"
   ]
  },
  {
   "cell_type": "code",
   "execution_count": 25,
   "metadata": {},
   "outputs": [],
   "source": [
    "W_pump = [round(num, 2) for num in [m[4]*(st6.h - st5.h),\n",
    "                                    m[6]*(st8.h - st7.h),\n",
    "                                    m[8]*(st10.h - st9.h)]]"
   ]
  },
  {
   "cell_type": "markdown",
   "metadata": {},
   "source": [
    "$$ W_{pump} = W_{pump_{1}} + W_{pump_{2}} + W_{pump_{3}} $$"
   ]
  },
  {
   "cell_type": "code",
   "execution_count": 26,
   "metadata": {},
   "outputs": [],
   "source": [
    "W_pump_tot = round(sum(W_pump), 2)"
   ]
  },
  {
   "cell_type": "markdown",
   "metadata": {},
   "source": [
    "Definindo dicionário de dados de trabalho, calor e eficiêcia e criando tabela"
   ]
  },
  {
   "cell_type": "code",
   "execution_count": 27,
   "metadata": {},
   "outputs": [],
   "source": [
    "data = {\n",
    "    'w_pump_in [kJ/kg]': [w_pump_in],\n",
    "    'w_turb_out [kJ/kg]': w_turb_out,\n",
    "    'q_in [kJ/kg]': q_in,\n",
    "    'q_out [kJ/kg]': q_out,\n",
    "    'η_th [%]': n_th,\n",
    "    'W_pump_1 [kW]': W_pump[0],\n",
    "    'W_pump_2 [kW]': W_pump[1],\n",
    "    'W_pump_3 [kW]': W_pump[2],\n",
    "    'W_pump [kW]': W_pump_tot,\n",
    "    'W_turb [kW]': W_turb\n",
    "    \n",
    "}\n",
    "\n",
    "df = DataFrame(data).style.hide(axis='index').format(precision=2)"
   ]
  },
  {
   "cell_type": "markdown",
   "metadata": {},
   "source": [
    "## Resultados ##"
   ]
  },
  {
   "cell_type": "code",
   "execution_count": 28,
   "metadata": {},
   "outputs": [
    {
     "data": {
      "text/html": [
       "<style type=\"text/css\">\n",
       "</style>\n",
       "<table id=\"T_ae34d\">\n",
       "  <thead>\n",
       "    <tr>\n",
       "      <th id=\"T_ae34d_level0_col0\" class=\"col_heading level0 col0\" >w_pump_in [kJ/kg]</th>\n",
       "      <th id=\"T_ae34d_level0_col1\" class=\"col_heading level0 col1\" >w_turb_out [kJ/kg]</th>\n",
       "      <th id=\"T_ae34d_level0_col2\" class=\"col_heading level0 col2\" >q_in [kJ/kg]</th>\n",
       "      <th id=\"T_ae34d_level0_col3\" class=\"col_heading level0 col3\" >q_out [kJ/kg]</th>\n",
       "      <th id=\"T_ae34d_level0_col4\" class=\"col_heading level0 col4\" >η_th [%]</th>\n",
       "      <th id=\"T_ae34d_level0_col5\" class=\"col_heading level0 col5\" >W_pump_1 [kW]</th>\n",
       "      <th id=\"T_ae34d_level0_col6\" class=\"col_heading level0 col6\" >W_pump_2 [kW]</th>\n",
       "      <th id=\"T_ae34d_level0_col7\" class=\"col_heading level0 col7\" >W_pump_3 [kW]</th>\n",
       "      <th id=\"T_ae34d_level0_col8\" class=\"col_heading level0 col8\" >W_pump [kW]</th>\n",
       "      <th id=\"T_ae34d_level0_col9\" class=\"col_heading level0 col9\" >W_turb [kW]</th>\n",
       "    </tr>\n",
       "  </thead>\n",
       "  <tbody>\n",
       "    <tr>\n",
       "      <td id=\"T_ae34d_row0_col0\" class=\"data row0 col0\" >8.80</td>\n",
       "      <td id=\"T_ae34d_row0_col1\" class=\"data row0 col1\" >4598.71</td>\n",
       "      <td id=\"T_ae34d_row0_col2\" class=\"data row0 col2\" >2911.99</td>\n",
       "      <td id=\"T_ae34d_row0_col3\" class=\"data row0 col3\" >2119.60</td>\n",
       "      <td id=\"T_ae34d_row0_col4\" class=\"data row0 col4\" >27.21</td>\n",
       "      <td id=\"T_ae34d_row0_col5\" class=\"data row0 col5\" >7.63</td>\n",
       "      <td id=\"T_ae34d_row0_col6\" class=\"data row0 col6\" >278.28</td>\n",
       "      <td id=\"T_ae34d_row0_col7\" class=\"data row0 col7\" >6.57</td>\n",
       "      <td id=\"T_ae34d_row0_col8\" class=\"data row0 col8\" >292.48</td>\n",
       "      <td id=\"T_ae34d_row0_col9\" class=\"data row0 col9\" >29149.07</td>\n",
       "    </tr>\n",
       "  </tbody>\n",
       "</table>\n"
      ],
      "text/plain": [
       "<pandas.io.formats.style.Styler at 0x1b9120c64f0>"
      ]
     },
     "metadata": {},
     "output_type": "display_data"
    }
   ],
   "source": [
    "display(df)"
   ]
  },
  {
   "cell_type": "markdown",
   "metadata": {},
   "source": [
    "Fazer a modelagem com condensador para que sua temperatura de condensação \n",
    "varie conforme a vazão de condensado. Mostrar essa variação."
   ]
  },
  {
   "cell_type": "markdown",
   "metadata": {},
   "source": [
    "![Condensador](img/Condensador.jpeg \"Condensador\")"
   ]
  },
  {
   "cell_type": "code",
   "execution_count": null,
   "metadata": {},
   "outputs": [],
   "source": []
  },
  {
   "cell_type": "code",
   "execution_count": null,
   "metadata": {},
   "outputs": [],
   "source": []
  },
  {
   "cell_type": "code",
   "execution_count": null,
   "metadata": {},
   "outputs": [],
   "source": []
  },
  {
   "cell_type": "markdown",
   "metadata": {},
   "source": [
    "Desenvolver a análise de primeira lei para o esquema de caldeira abaixo. \n",
    "Considerar que este sistema está inserido dentro do ciclo de potência já desenvolvido \n",
    "(Fig. 1).\n"
   ]
  },
  {
   "cell_type": "markdown",
   "metadata": {},
   "source": [
    "![Caldeira](img/Caldeira.jpeg \"Caldeira\")"
   ]
  }
 ],
 "metadata": {
  "interpreter": {
   "hash": "9f28cbbf921d7479c98a9b400630867feadfeec979835611b7a5d3ea644f7290"
  },
  "kernelspec": {
   "display_name": "Python 3.8.12 ('downgrade')",
   "language": "python",
   "name": "python3"
  },
  "language_info": {
   "codemirror_mode": {
    "name": "ipython",
    "version": 3
   },
   "file_extension": ".py",
   "mimetype": "text/x-python",
   "name": "python",
   "nbconvert_exporter": "python",
   "pygments_lexer": "ipython3",
   "version": "3.8.12"
  },
  "orig_nbformat": 4
 },
 "nbformat": 4,
 "nbformat_minor": 2
}
