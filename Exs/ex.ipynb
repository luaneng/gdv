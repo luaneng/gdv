{
 "cells": [
  {
   "cell_type": "markdown",
   "metadata": {},
   "source": [
    "!['Ex1'](img/ex1.png)"
   ]
  },
  {
   "cell_type": "markdown",
   "metadata": {},
   "source": [
    "_Dados Fornecidos_"
   ]
  },
  {
   "cell_type": "code",
   "execution_count": 355,
   "metadata": {},
   "outputs": [],
   "source": [
    "P = [75, 3*10**3, 3*10**3, 75] #kPa\n",
    "T3 = 350 #C\n",
    "x1 = 0\n",
    "nbomba, nturb = 1, 1 "
   ]
  },
  {
   "cell_type": "markdown",
   "metadata": {},
   "source": [
    "_Bibliotecas necessárias_"
   ]
  },
  {
   "cell_type": "code",
   "execution_count": 342,
   "metadata": {},
   "outputs": [],
   "source": [
    "from CoolProp.CoolProp import State as st\n",
    "import pandas as pd\n",
    "import numpy as np"
   ]
  },
  {
   "cell_type": "markdown",
   "metadata": {},
   "source": [
    "_Definição dos estados_"
   ]
  },
  {
   "cell_type": "code",
   "execution_count": 19,
   "metadata": {},
   "outputs": [],
   "source": [
    "fluido = 'Water'"
   ]
  },
  {
   "cell_type": "code",
   "execution_count": 249,
   "metadata": {},
   "outputs": [],
   "source": [
    "st1 = st(fluido, {'P': P[0], 'Q': x1})\n",
    "st3 = st(fluido, {'P': P[2], 'T': T3 + 273.15})"
   ]
  },
  {
   "cell_type": "markdown",
   "metadata": {},
   "source": [
    "_Estados com 100% de eficiência isentrópica (ciclo ideal)_"
   ]
  },
  {
   "cell_type": "code",
   "execution_count": 250,
   "metadata": {},
   "outputs": [],
   "source": [
    "st2s = st(fluido, {'S': st1.s, 'P': P[1]})\n",
    "st4s = st(fluido, {'S': st3.s, 'P': P[3]})"
   ]
  },
  {
   "cell_type": "markdown",
   "metadata": {},
   "source": [
    "_Eficiência isentrópica_ <br/>\n",
    "Turbina: $$ \\eta_{turb} = \\frac{h_{3} - h_{4}}{h_{3} - h_{4s}} $$\n",
    "Bomba: $$ \\eta_{pump} = \\frac{h_{2s} - h_{1}}{h_{2} - h_{1}} $$"
   ]
  },
  {
   "cell_type": "code",
   "execution_count": 356,
   "metadata": {},
   "outputs": [],
   "source": [
    "h2 = ((st2s.h-st1.h) / nbomba) + st1.h\n",
    "h4 = st3.h - nturb*(st3.h - st4s.h)"
   ]
  },
  {
   "cell_type": "code",
   "execution_count": 357,
   "metadata": {},
   "outputs": [],
   "source": [
    "st2 = st(fluido, {'H': h2, 'P': P[1]})\n",
    "st4 = st(fluido, {'P': P[3], 'H': h4})"
   ]
  },
  {
   "cell_type": "markdown",
   "metadata": {},
   "source": [
    "_Obtendo dados de temperatura, pressão, entalpia, entropia e titulo dos 4 estados_"
   ]
  },
  {
   "cell_type": "code",
   "execution_count": 358,
   "metadata": {},
   "outputs": [],
   "source": [
    "temperatura, pressao, entalpia, entropia, titulo, estados = [], [], [], [], [], np.arange(1, 5, 1)\n",
    "\n",
    "ets = st1, st2, st3, st4 \n",
    "\n",
    "for prop in ets: \n",
    "    temperatura.append(round(prop.T, 2))\n",
    "    pressao.append(round(prop.p, 2))\n",
    "    entalpia.append(round(prop.h, 2))\n",
    "    entropia.append(round(prop.s, 2))\n",
    "\n",
    "    if np.absolute(prop.Q) == 1:\n",
    "        titulo.append('Vap. Sat.')\n",
    "    elif np.absolute(prop.Q) == 0:\n",
    "        titulo.append('Liq. Sat.')\n",
    "    else:\n",
    "        titulo.append(round(np.absolute(prop.Q), 2))"
   ]
  },
  {
   "cell_type": "code",
   "execution_count": 426,
   "metadata": {},
   "outputs": [
    {
     "name": "stderr",
     "output_type": "stream",
     "text": [
      "C:\\Users\\oluan\\AppData\\Local\\Temp/ipykernel_16788/333227312.py:10: FutureWarning: this method is deprecated in favour of `Styler.hide(axis='index')`\n",
      "  df_st = pd.DataFrame(data_st).style.background_gradient(cmap='YlOrRd',\n"
     ]
    }
   ],
   "source": [
    "data_st = {\n",
    "    'Estado': estados,\n",
    "    'Temperatura [ºC]': temperatura,\n",
    "    'Pressão [kPa]': pressao,\n",
    "    'Entalpia [kJ/kg]': entalpia,\n",
    "    'Entropia [kJ/kg/K]': entropia,\n",
    "    'Titulo [-]': titulo\n",
    "}\n",
    "\n",
    "df_st = pd.DataFrame(data_st).style.background_gradient(cmap='YlOrRd', \n",
    "                subset=['Temperatura [ºC]'\t,'Pressão [kPa]', 'Entalpia [kJ/kg]', 'Entropia [kJ/kg/K]']).hide_index().format(precision=2)"
   ]
  },
  {
   "cell_type": "code",
   "execution_count": 427,
   "metadata": {},
   "outputs": [
    {
     "data": {
      "text/html": [
       "<style type=\"text/css\">\n",
       "#T_a6b03_row0_col1, #T_a6b03_row0_col2, #T_a6b03_row0_col3, #T_a6b03_row0_col4, #T_a6b03_row1_col1, #T_a6b03_row1_col3, #T_a6b03_row1_col4, #T_a6b03_row3_col1, #T_a6b03_row3_col2 {\n",
       "  background-color: #ffffcc;\n",
       "  color: #000000;\n",
       "}\n",
       "#T_a6b03_row1_col2, #T_a6b03_row2_col1, #T_a6b03_row2_col2, #T_a6b03_row2_col3, #T_a6b03_row2_col4, #T_a6b03_row3_col4 {\n",
       "  background-color: #800026;\n",
       "  color: #f1f1f1;\n",
       "}\n",
       "#T_a6b03_row3_col3 {\n",
       "  background-color: #e51e1d;\n",
       "  color: #f1f1f1;\n",
       "}\n",
       "</style>\n",
       "<table id=\"T_a6b03\">\n",
       "  <thead>\n",
       "    <tr>\n",
       "      <th id=\"T_a6b03_level0_col0\" class=\"col_heading level0 col0\" >Estado</th>\n",
       "      <th id=\"T_a6b03_level0_col1\" class=\"col_heading level0 col1\" >Temperatura [ºC]</th>\n",
       "      <th id=\"T_a6b03_level0_col2\" class=\"col_heading level0 col2\" >Pressão [kPa]</th>\n",
       "      <th id=\"T_a6b03_level0_col3\" class=\"col_heading level0 col3\" >Entalpia [kJ/kg]</th>\n",
       "      <th id=\"T_a6b03_level0_col4\" class=\"col_heading level0 col4\" >Entropia [kJ/kg/K]</th>\n",
       "      <th id=\"T_a6b03_level0_col5\" class=\"col_heading level0 col5\" >Titulo [-]</th>\n",
       "    </tr>\n",
       "  </thead>\n",
       "  <tbody>\n",
       "    <tr>\n",
       "      <td id=\"T_a6b03_row0_col0\" class=\"data row0 col0\" >1</td>\n",
       "      <td id=\"T_a6b03_row0_col1\" class=\"data row0 col1\" >364.91</td>\n",
       "      <td id=\"T_a6b03_row0_col2\" class=\"data row0 col2\" >75.00</td>\n",
       "      <td id=\"T_a6b03_row0_col3\" class=\"data row0 col3\" >384.44</td>\n",
       "      <td id=\"T_a6b03_row0_col4\" class=\"data row0 col4\" >1.21</td>\n",
       "      <td id=\"T_a6b03_row0_col5\" class=\"data row0 col5\" >Liq. Sat.</td>\n",
       "    </tr>\n",
       "    <tr>\n",
       "      <td id=\"T_a6b03_row1_col0\" class=\"data row1 col0\" >2</td>\n",
       "      <td id=\"T_a6b03_row1_col1\" class=\"data row1 col1\" >365.09</td>\n",
       "      <td id=\"T_a6b03_row1_col2\" class=\"data row1 col2\" >3000.00</td>\n",
       "      <td id=\"T_a6b03_row1_col3\" class=\"data row1 col3\" >387.47</td>\n",
       "      <td id=\"T_a6b03_row1_col4\" class=\"data row1 col4\" >1.21</td>\n",
       "      <td id=\"T_a6b03_row1_col5\" class=\"data row1 col5\" >Vap. Sat.</td>\n",
       "    </tr>\n",
       "    <tr>\n",
       "      <td id=\"T_a6b03_row2_col0\" class=\"data row2 col0\" >3</td>\n",
       "      <td id=\"T_a6b03_row2_col1\" class=\"data row2 col1\" >623.15</td>\n",
       "      <td id=\"T_a6b03_row2_col2\" class=\"data row2 col2\" >3000.00</td>\n",
       "      <td id=\"T_a6b03_row2_col3\" class=\"data row2 col3\" >3116.06</td>\n",
       "      <td id=\"T_a6b03_row2_col4\" class=\"data row2 col4\" >6.74</td>\n",
       "      <td id=\"T_a6b03_row2_col5\" class=\"data row2 col5\" >Vap. Sat.</td>\n",
       "    </tr>\n",
       "    <tr>\n",
       "      <td id=\"T_a6b03_row3_col0\" class=\"data row3 col0\" >4</td>\n",
       "      <td id=\"T_a6b03_row3_col1\" class=\"data row3 col1\" >364.91</td>\n",
       "      <td id=\"T_a6b03_row3_col2\" class=\"data row3 col2\" >75.00</td>\n",
       "      <td id=\"T_a6b03_row3_col3\" class=\"data row3 col3\" >2403.02</td>\n",
       "      <td id=\"T_a6b03_row3_col4\" class=\"data row3 col4\" >6.74</td>\n",
       "      <td id=\"T_a6b03_row3_col5\" class=\"data row3 col5\" >0.89</td>\n",
       "    </tr>\n",
       "  </tbody>\n",
       "</table>\n"
      ],
      "text/plain": [
       "<pandas.io.formats.style.Styler at 0x1ee43084dc0>"
      ]
     },
     "metadata": {},
     "output_type": "display_data"
    }
   ],
   "source": [
    "display(df_st)"
   ]
  },
  {
   "cell_type": "markdown",
   "metadata": {},
   "source": [
    "$$ \\omega_{pump, in} = h_2 - h_1 $$\n",
    "$$ \\omega_{turb, out} = h_3 - h_4 $$\n",
    "$$ q_{in} = h_3 - h_2 $$\n",
    "$$ q_{out} = h_4 - h_1 $$\n",
    "$$\\eta_{th} = 1 - \\frac{q_{out}}{q_{in}}$$"
   ]
  },
  {
   "cell_type": "code",
   "execution_count": 348,
   "metadata": {},
   "outputs": [],
   "source": [
    "w_pump_in = [st2.h - st1.h]\n",
    "w_turb_out = [st3.h - st4.h]\n",
    "q_in = [st3.h - st2.h]\n",
    "q_out = [st4.h - st1.h]\n",
    "n = [1 - (q_out[0]/q_in[0])]"
   ]
  },
  {
   "cell_type": "code",
   "execution_count": 434,
   "metadata": {},
   "outputs": [
    {
     "name": "stderr",
     "output_type": "stream",
     "text": [
      "C:\\Users\\oluan\\AppData\\Local\\Temp/ipykernel_16788/2021166190.py:9: FutureWarning: this method is deprecated in favour of `Styler.hide(axis='index')`\n",
      "  df = pd.DataFrame(data).style.background_gradient(cmap='PuBu', axis=1).hide_index().format(precision=2)\n"
     ]
    }
   ],
   "source": [
    "data = {\n",
    "    'w_pump_in [kJ/kg]': w_pump_in,\n",
    "    'w_turb_out [kJ/kg]': w_turb_out,\n",
    "    'q_in [kJ/kg]': q_in,\n",
    "    'q_out [kJ/kg]': q_out,\n",
    "    'η': n\n",
    "}\n",
    "\n",
    "df = pd.DataFrame(data).style.background_gradient(cmap='PuBu', axis=1).hide_index().format(precision=2)"
   ]
  },
  {
   "cell_type": "code",
   "execution_count": 435,
   "metadata": {},
   "outputs": [
    {
     "data": {
      "text/html": [
       "<style type=\"text/css\">\n",
       "#T_c6d96_row0_col0, #T_c6d96_row0_col4 {\n",
       "  background-color: #fff7fb;\n",
       "  color: #000000;\n",
       "}\n",
       "#T_c6d96_row0_col1 {\n",
       "  background-color: #cdd0e5;\n",
       "  color: #000000;\n",
       "}\n",
       "#T_c6d96_row0_col2 {\n",
       "  background-color: #023858;\n",
       "  color: #f1f1f1;\n",
       "}\n",
       "#T_c6d96_row0_col3 {\n",
       "  background-color: #0872b1;\n",
       "  color: #f1f1f1;\n",
       "}\n",
       "</style>\n",
       "<table id=\"T_c6d96\">\n",
       "  <thead>\n",
       "    <tr>\n",
       "      <th id=\"T_c6d96_level0_col0\" class=\"col_heading level0 col0\" >w_pump_in [kJ/kg]</th>\n",
       "      <th id=\"T_c6d96_level0_col1\" class=\"col_heading level0 col1\" >w_turb_out [kJ/kg]</th>\n",
       "      <th id=\"T_c6d96_level0_col2\" class=\"col_heading level0 col2\" >q_in [kJ/kg]</th>\n",
       "      <th id=\"T_c6d96_level0_col3\" class=\"col_heading level0 col3\" >q_out [kJ/kg]</th>\n",
       "      <th id=\"T_c6d96_level0_col4\" class=\"col_heading level0 col4\" >η</th>\n",
       "    </tr>\n",
       "  </thead>\n",
       "  <tbody>\n",
       "    <tr>\n",
       "      <td id=\"T_c6d96_row0_col0\" class=\"data row0 col0\" >3.03</td>\n",
       "      <td id=\"T_c6d96_row0_col1\" class=\"data row0 col1\" >713.04</td>\n",
       "      <td id=\"T_c6d96_row0_col2\" class=\"data row0 col2\" >2728.59</td>\n",
       "      <td id=\"T_c6d96_row0_col3\" class=\"data row0 col3\" >2018.58</td>\n",
       "      <td id=\"T_c6d96_row0_col4\" class=\"data row0 col4\" >0.26</td>\n",
       "    </tr>\n",
       "  </tbody>\n",
       "</table>\n"
      ],
      "text/plain": [
       "<pandas.io.formats.style.Styler at 0x1ee43084a90>"
      ]
     },
     "metadata": {},
     "output_type": "display_data"
    }
   ],
   "source": [
    "display(df)"
   ]
  }
 ],
 "metadata": {
  "interpreter": {
   "hash": "9f28cbbf921d7479c98a9b400630867feadfeec979835611b7a5d3ea644f7290"
  },
  "kernelspec": {
   "display_name": "Python 3.8.12 ('downgrade')",
   "language": "python",
   "name": "python3"
  },
  "language_info": {
   "codemirror_mode": {
    "name": "ipython",
    "version": 3
   },
   "file_extension": ".py",
   "mimetype": "text/x-python",
   "name": "python",
   "nbconvert_exporter": "python",
   "pygments_lexer": "ipython3",
   "version": "3.8.12"
  },
  "orig_nbformat": 4
 },
 "nbformat": 4,
 "nbformat_minor": 2
}
