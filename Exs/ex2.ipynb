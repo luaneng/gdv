{
 "cells": [
  {
   "cell_type": "markdown",
   "metadata": {},
   "source": [
    "!['Ex2'](img/ex2.png)"
   ]
  },
  {
   "cell_type": "code",
   "execution_count": 52,
   "metadata": {},
   "outputs": [],
   "source": [
    "P = [9, 16*10**3, 15.9*10**3, 15.2*10**3, 15*10**3, 10] #kPa\n",
    "T1, T3, T4, T5 = 38, 35, 626, 600  #C\n",
    "fluido = 'Water'\n",
    "n_pump, n_turb = 0.85, 0.87\n",
    "dmdt = 15 #kg/s"
   ]
  },
  {
   "cell_type": "code",
   "execution_count": 40,
   "metadata": {},
   "outputs": [],
   "source": [
    "from CoolProp.CoolProp import State as st"
   ]
  },
  {
   "cell_type": "code",
   "execution_count": 41,
   "metadata": {},
   "outputs": [],
   "source": [
    "st1 = st(fluido, {'P': P[0], 'T': T1 + 273.15})\n",
    "st3 = st(fluido, {'P': P[2], 'T': T3 + 273.15})\n",
    "st4 = st(fluido, {'P': P[3], 'T': T4 + 273.15})\n",
    "st5 = st(fluido, {'P': P[4], 'T': T5 + 273.15})"
   ]
  },
  {
   "cell_type": "markdown",
   "metadata": {},
   "source": [
    "$$ st_{2s}: st_{2s}(P_{2}, S_{1}) $$\n",
    "$$ h_{2} = \\frac{h_{2s} - h_{1}}{\\eta_{pump}} + h_{1} $$\n",
    "$$ st_{2}: st_{2}(P_{2}, h_{2}) $$"
   ]
  },
  {
   "cell_type": "code",
   "execution_count": 42,
   "metadata": {},
   "outputs": [],
   "source": [
    "st2s = st(fluido, {'P': P[1], 'S': st1.s})\n",
    "h2 = st1.h + (st2s.h - st1.h)/n_pump\n",
    "st2 = st(fluido, {'P': P[1], 'H': h2})"
   ]
  },
  {
   "cell_type": "markdown",
   "metadata": {},
   "source": [
    "$$ st_{6s}: st_{6s}(P_{6}, S_{5}) $$\n",
    "$$ h_{6} = h_{5} - \\eta_{turb}(h_{5} - h_{6s}) $$\n",
    "$$ st_{6}: st_{6}(P_{6}, h_{6}) $$"
   ]
  },
  {
   "cell_type": "code",
   "execution_count": 43,
   "metadata": {},
   "outputs": [],
   "source": [
    "st6s = st(fluido, {'P': P[5], 'S': st5.s})\n",
    "h6 = st5.h - n_turb*(st5.h - st6s.h)\n",
    "st6 = st(fluido, {'P': P[5], 'H': h6})"
   ]
  },
  {
   "cell_type": "code",
   "execution_count": 44,
   "metadata": {},
   "outputs": [],
   "source": [
    "from numpy import arange, absolute"
   ]
  },
  {
   "cell_type": "code",
   "execution_count": 45,
   "metadata": {},
   "outputs": [],
   "source": [
    "estados = st1, st2, st3, st4, st5, st6\n",
    "\n",
    "pressao, temperatura, entalpia, entropia, titulo, qtd_sts = [], [], [], [], [], arange(1, 7, 1)\n",
    "\n",
    "for propriedade in estados:\n",
    "    pressao.append(round(propriedade.p, 2))\n",
    "    temperatura.append(round(propriedade.T - 273.15, 2))\n",
    "    entalpia.append(round(propriedade.h, 2))\n",
    "    entropia.append(round(propriedade.s, 2))\n",
    "\n",
    "    if absolute(round(propriedade.Q, 2)) == 1:\n",
    "        titulo.append('Vap. Sat.')\n",
    "    elif propriedade.Q == 0:\n",
    "        titulo.append('Liq. Sat.')\n",
    "    else:\n",
    "        titulo.append(round(propriedade.Q, 2))\n"
   ]
  },
  {
   "cell_type": "code",
   "execution_count": 46,
   "metadata": {},
   "outputs": [],
   "source": [
    "from pandas import DataFrame"
   ]
  },
  {
   "cell_type": "code",
   "execution_count": 47,
   "metadata": {},
   "outputs": [],
   "source": [
    "data_st = {\n",
    "    'Estado': qtd_sts,\n",
    "    'Temperatura [ºC]': temperatura,\n",
    "    'Pressão [kPa]': pressao,\n",
    "    'Entalpia [kJ/kg]': entalpia,\n",
    "    'Entropia [kJ/kg/K]': entropia,\n",
    "    'Titulo [-]': titulo\n",
    "}\n",
    "\n",
    "df_st = DataFrame(data_st).style.hide(axis='index').format(precision=2)"
   ]
  },
  {
   "cell_type": "code",
   "execution_count": 51,
   "metadata": {},
   "outputs": [
    {
     "data": {
      "text/plain": [
       "{'Estado': array([1, 2, 3, 4, 5, 6]),\n",
       " 'Temperatura [ºC]': [38.0, 39.13, 35.0, 626.0, 600.0, 45.81],\n",
       " 'Pressão [kPa]': [9.0, 16000.0, 15900.0, 15200.0, 15000.0, 10.0],\n",
       " 'Entalpia [kJ/kg]': [159.18, 178.06, 160.85, 3648.96, 3583.13, 2306.06],\n",
       " 'Entropia [kJ/kg/K]': [0.55, 0.55, 0.5, 6.75, 6.68, 7.28],\n",
       " 'Titulo [-]': ['Vap. Sat.',\n",
       "  'Vap. Sat.',\n",
       "  'Vap. Sat.',\n",
       "  'Vap. Sat.',\n",
       "  'Vap. Sat.',\n",
       "  0.88]}"
      ]
     },
     "metadata": {},
     "output_type": "display_data"
    }
   ],
   "source": [
    "display(data_st)"
   ]
  },
  {
   "cell_type": "markdown",
   "metadata": {},
   "source": [
    "$$ q_{in} = h_{4} - h_{3} $$\n",
    "$$ q_{out} = h_{6} - h_{1} $$\n",
    "$$ \\eta_{th} = 1 - \\frac{q_{out}}{q_{in}} $$\n",
    "$$ \\omega_{turb, out} = \\eta_{turb}(h_{5} - h_{6}) $$\n",
    "$$ \\omega_{pump, in} = \\eta_{pump}(h_{2} - h_{1}) $$\n",
    "$$ W_{out} = \\frac{dm}{dt}\\omega_{turb, out} $$"
   ]
  },
  {
   "cell_type": "code",
   "execution_count": 53,
   "metadata": {},
   "outputs": [],
   "source": [
    "q_in = st4.h - st3.h\n",
    "q_out = st6.h - st1.h\n",
    "nth = 100*(1 - q_out/q_in)\n",
    "w_turb_out = n_turb*(st5.h - st6.h)\n",
    "w_pump_in = n_pump*(st2.h - st1.h)\n",
    "W_out = dmdt*w_turb_out"
   ]
  },
  {
   "cell_type": "code",
   "execution_count": 55,
   "metadata": {},
   "outputs": [
    {
     "name": "stdout",
     "output_type": "stream",
     "text": [
      " q_in: 3488.11 kJ/kg \n",
      " q_out: 2146.89 kJ/kg\n",
      " n_th: 38.45% \n",
      " w_turb_out: 1111.05 kJ/kg \n",
      " w_pump_in: 16.05 kJ/kg \n",
      " W_out: 16665.73 kW\n"
     ]
    }
   ],
   "source": [
    "print(f' q_in: {q_in:.2f} kJ/kg \\n', \n",
    "      f'q_out: {q_out:.2f} kJ/kg\\n',\n",
    "      f'n_th: {nth:.2f}% \\n',\n",
    "      f'w_turb_out: {w_turb_out:.2f} kJ/kg \\n',\n",
    "      f'w_pump_in: {w_pump_in:.2f} kJ/kg \\n',\n",
    "      f'W_out: {W_out:.2f} kW')"
   ]
  }
 ],
 "metadata": {
  "interpreter": {
   "hash": "9f28cbbf921d7479c98a9b400630867feadfeec979835611b7a5d3ea644f7290"
  },
  "kernelspec": {
   "display_name": "Python 3.8.12 ('downgrade')",
   "language": "python",
   "name": "python3"
  },
  "language_info": {
   "codemirror_mode": {
    "name": "ipython",
    "version": 3
   },
   "file_extension": ".py",
   "mimetype": "text/x-python",
   "name": "python",
   "nbconvert_exporter": "python",
   "pygments_lexer": "ipython3",
   "version": "3.8.12"
  },
  "orig_nbformat": 4
 },
 "nbformat": 4,
 "nbformat_minor": 2
}
